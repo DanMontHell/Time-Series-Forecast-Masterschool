{
 "cells": [
  {
   "metadata": {},
   "cell_type": "markdown",
   "source": "# Time Series Analysis",
   "id": "c09cefd0ece8f988"
  },
  {
   "metadata": {},
   "cell_type": "markdown",
   "source": "### Initial filtering and subsetting",
   "id": "f85cca9d60a6eccb"
  },
  {
   "cell_type": "code",
   "id": "initial_id",
   "metadata": {
    "collapsed": true,
    "ExecuteTime": {
     "end_time": "2025-05-09T07:20:14.235359Z",
     "start_time": "2025-05-09T07:20:14.228389Z"
    }
   },
   "source": [
    "#Importing libraries\n",
    "import pandas as pd\n",
    "import numpy as np\n",
    "import matplotlib.pyplot as plt\n",
    "import seaborn as sns\n",
    "\n",
    "sns.set_style(\"whitegrid\")\n",
    "sns.color_palette(\"coolwarm\")\n",
    "pd.set_option('display.float_format', lambda x: f'{x:,.2f}')"
   ],
   "outputs": [],
   "execution_count": 2
  },
  {
   "metadata": {
    "ExecuteTime": {
     "end_time": "2025-05-09T07:22:14.327443Z",
     "start_time": "2025-05-09T07:22:14.289761Z"
    }
   },
   "cell_type": "code",
   "source": [
    "#Loading CSV files to access data\n",
    "df_stores = pd.read_csv('../data/stores.csv')\n",
    "df_items = pd.read_csv('../data/items.csv')\n",
    "df_transactions = pd.read_csv('../data/transactions.csv')\n",
    "df_oil = pd.read_csv('../data/oil.csv')\n",
    "df_holidays_events = pd.read_csv('../data/holidays_events.csv')"
   ],
   "id": "cf42d3c35b66afed",
   "outputs": [],
   "execution_count": 3
  },
  {
   "metadata": {
    "ExecuteTime": {
     "end_time": "2025-05-09T07:25:05.925360Z",
     "start_time": "2025-05-09T07:25:05.543532Z"
    }
   },
   "cell_type": "code",
   "source": [
    "#Loading train csv but with limited rows due to file size\n",
    "df_train = pd.read_csv('../data/train.csv', nrows=2000000)"
   ],
   "id": "6c1219d55bc3dbfa",
   "outputs": [],
   "execution_count": 8
  },
  {
   "metadata": {
    "ExecuteTime": {
     "end_time": "2025-05-09T07:25:09.048707Z",
     "start_time": "2025-05-09T07:25:09.041686Z"
    }
   },
   "cell_type": "code",
   "source": [
    "#Selecting stores located in the 'Guayas' region\n",
    "store_ids = df_stores[df_stores['state'] == 'Guayas']['store_nbr'].unique()"
   ],
   "id": "2efa70997172386c",
   "outputs": [],
   "execution_count": 9
  },
  {
   "metadata": {
    "ExecuteTime": {
     "end_time": "2025-05-09T07:25:11.068214Z",
     "start_time": "2025-05-09T07:25:11.065837Z"
    }
   },
   "cell_type": "code",
   "source": [
    "#Presetting dtypes to prevent errors during csv reading\n",
    "dtypes = {\n",
    "    'id': 'int64',\n",
    "    'date': 'object',\n",
    "    'store_nbr': 'int64',\n",
    "    'item_nbr': 'int64',\n",
    "    'unit_sales': 'float64',\n",
    "    'onpromotion': 'object'\n",
    "}"
   ],
   "id": "549317e67317dc69",
   "outputs": [],
   "execution_count": 10
  },
  {
   "metadata": {
    "ExecuteTime": {
     "end_time": "2025-05-09T07:25:13.937478Z",
     "start_time": "2025-05-09T07:25:13.935025Z"
    }
   },
   "cell_type": "code",
   "source": [
    "#Initialising an empty list to hold filtered chunks\n",
    "filtered_chunks = []\n",
    "#Defining the chunk size\n",
    "chunk_size = 500000"
   ],
   "id": "86b7f88b16fac59a",
   "outputs": [],
   "execution_count": 11
  },
  {
   "metadata": {
    "ExecuteTime": {
     "end_time": "2025-05-09T07:25:51.351742Z",
     "start_time": "2025-05-09T07:25:15.760393Z"
    }
   },
   "cell_type": "code",
   "source": [
    "#Reading the CSV file in chunks\n",
    "csv_path = '../data/train.csv'\n",
    "for chunk in pd.read_csv(csv_path, chunksize=chunk_size, dtype=dtypes):\n",
    "    #Filter the chunk immediately\n",
    "    chunk_filtered = chunk[chunk['store_nbr'].isin(store_ids)].copy()\n",
    "\n",
    "    #Append to list\n",
    "    filtered_chunks.append(chunk_filtered)\n",
    "\n",
    "    #Cleanup\n",
    "    del chunk, chunk_filtered\n",
    "\n",
    "#Concatenating all filtered chunks into a single DataFrame\n",
    "df_train_guayas = pd.concat(filtered_chunks, ignore_index=True)\n",
    "\n",
    "#Final cleanup\n",
    "del filtered_chunks"
   ],
   "id": "dab1c2b69025a60a",
   "outputs": [],
   "execution_count": 12
  },
  {
   "metadata": {
    "ExecuteTime": {
     "end_time": "2025-05-09T07:26:04.850764Z",
     "start_time": "2025-05-09T07:26:04.845878Z"
    }
   },
   "cell_type": "code",
   "source": [
    "#Checking size\n",
    "df_train_guayas.shape"
   ],
   "id": "ba10a2609a0542f0",
   "outputs": [
    {
     "data": {
      "text/plain": [
       "(22941656, 6)"
      ]
     },
     "execution_count": 13,
     "metadata": {},
     "output_type": "execute_result"
    }
   ],
   "execution_count": 13
  },
  {
   "metadata": {},
   "cell_type": "markdown",
   "source": "Additionally, I will be filtering the 'items.csv' data in 'df_train_guayas' to only include the top 3 families (product categories) by the number of items.",
   "id": "eb115c090d9454bf"
  },
  {
   "metadata": {
    "ExecuteTime": {
     "end_time": "2025-05-09T07:26:06.801768Z",
     "start_time": "2025-05-09T07:26:06.793777Z"
    }
   },
   "cell_type": "code",
   "source": [
    "#Checking Family item counts\n",
    "items_per_family = df_items['family'].value_counts().reset_index()\n",
    "items_per_family.columns = ['Family', 'Item Count']\n",
    "items_per_family.head(10)"
   ],
   "id": "413b4597aba62010",
   "outputs": [
    {
     "data": {
      "text/plain": [
       "          Family  Item Count\n",
       "0      GROCERY I        1334\n",
       "1      BEVERAGES         613\n",
       "2       CLEANING         446\n",
       "3        PRODUCE         306\n",
       "4          DAIRY         242\n",
       "5  PERSONAL CARE         153\n",
       "6   BREAD/BAKERY         134\n",
       "7      HOME CARE         108\n",
       "8           DELI          91\n",
       "9          MEATS          84"
      ],
      "text/html": [
       "<div>\n",
       "<style scoped>\n",
       "    .dataframe tbody tr th:only-of-type {\n",
       "        vertical-align: middle;\n",
       "    }\n",
       "\n",
       "    .dataframe tbody tr th {\n",
       "        vertical-align: top;\n",
       "    }\n",
       "\n",
       "    .dataframe thead th {\n",
       "        text-align: right;\n",
       "    }\n",
       "</style>\n",
       "<table border=\"1\" class=\"dataframe\">\n",
       "  <thead>\n",
       "    <tr style=\"text-align: right;\">\n",
       "      <th></th>\n",
       "      <th>Family</th>\n",
       "      <th>Item Count</th>\n",
       "    </tr>\n",
       "  </thead>\n",
       "  <tbody>\n",
       "    <tr>\n",
       "      <th>0</th>\n",
       "      <td>GROCERY I</td>\n",
       "      <td>1334</td>\n",
       "    </tr>\n",
       "    <tr>\n",
       "      <th>1</th>\n",
       "      <td>BEVERAGES</td>\n",
       "      <td>613</td>\n",
       "    </tr>\n",
       "    <tr>\n",
       "      <th>2</th>\n",
       "      <td>CLEANING</td>\n",
       "      <td>446</td>\n",
       "    </tr>\n",
       "    <tr>\n",
       "      <th>3</th>\n",
       "      <td>PRODUCE</td>\n",
       "      <td>306</td>\n",
       "    </tr>\n",
       "    <tr>\n",
       "      <th>4</th>\n",
       "      <td>DAIRY</td>\n",
       "      <td>242</td>\n",
       "    </tr>\n",
       "    <tr>\n",
       "      <th>5</th>\n",
       "      <td>PERSONAL CARE</td>\n",
       "      <td>153</td>\n",
       "    </tr>\n",
       "    <tr>\n",
       "      <th>6</th>\n",
       "      <td>BREAD/BAKERY</td>\n",
       "      <td>134</td>\n",
       "    </tr>\n",
       "    <tr>\n",
       "      <th>7</th>\n",
       "      <td>HOME CARE</td>\n",
       "      <td>108</td>\n",
       "    </tr>\n",
       "    <tr>\n",
       "      <th>8</th>\n",
       "      <td>DELI</td>\n",
       "      <td>91</td>\n",
       "    </tr>\n",
       "    <tr>\n",
       "      <th>9</th>\n",
       "      <td>MEATS</td>\n",
       "      <td>84</td>\n",
       "    </tr>\n",
       "  </tbody>\n",
       "</table>\n",
       "</div>"
      ]
     },
     "execution_count": 14,
     "metadata": {},
     "output_type": "execute_result"
    }
   ],
   "execution_count": 14
  },
  {
   "metadata": {
    "ExecuteTime": {
     "end_time": "2025-05-09T07:26:11.001411Z",
     "start_time": "2025-05-09T07:26:09.914031Z"
    }
   },
   "cell_type": "code",
   "source": [
    "#Filtering by top 3 Families\n",
    "top_3_families = items_per_family.head(3)\n",
    "\n",
    "item_ids = df_items[df_items['family'].isin(top_3_families['Family'].unique())]['item_nbr'].unique()\n",
    "df_ts = df_train_guayas[df_train_guayas['item_nbr'].isin(item_ids)]"
   ],
   "id": "36809ed80be29a04",
   "outputs": [],
   "execution_count": 15
  },
  {
   "metadata": {
    "ExecuteTime": {
     "end_time": "2025-05-09T07:26:33.104942Z",
     "start_time": "2025-05-09T07:26:33.101189Z"
    }
   },
   "cell_type": "code",
   "source": [
    "#Checking shape again after filtering\n",
    "df_ts.shape"
   ],
   "id": "f90515e8f057b7d5",
   "outputs": [
    {
     "data": {
      "text/plain": [
       "(14745768, 6)"
      ]
     },
     "execution_count": 16,
     "metadata": {},
     "output_type": "execute_result"
    }
   ],
   "execution_count": 16
  },
  {
   "metadata": {},
   "cell_type": "markdown",
   "source": "#### Checkpoint",
   "id": "4fa66d97d96b6671"
  },
  {
   "metadata": {
    "ExecuteTime": {
     "end_time": "2025-05-09T07:27:06.454381Z",
     "start_time": "2025-05-09T07:27:03.949590Z"
    }
   },
   "cell_type": "code",
   "source": [
    "#Saving a checkpoint after filtering\n",
    "df_ts.to_parquet(\"/Users/dan/PycharmProjects/Masterschool/TimeSeriesRetailForecast/data/df_ts_checkpoint1.parquet\")\n",
    "print(\"Checkpoint 1 saved successfully!\")"
   ],
   "id": "2b5667974aaf3c85",
   "outputs": [
    {
     "name": "stdout",
     "output_type": "stream",
     "text": [
      "Checkpoint 1 saved successfully!\n"
     ]
    }
   ],
   "execution_count": 17
  },
  {
   "metadata": {
    "ExecuteTime": {
     "end_time": "2025-05-09T07:23:00.159846Z",
     "start_time": "2025-05-09T07:22:58.971878Z"
    }
   },
   "cell_type": "code",
   "source": "df_ts = pd.read_parquet(\"/Users/dan/PycharmProjects/Masterschool/TimeSeriesRetailForecast//data/df_ts_checkpoint1.parquet\")",
   "id": "ee83671404bdc57",
   "outputs": [],
   "execution_count": 6
  },
  {
   "metadata": {},
   "cell_type": "markdown",
   "source": "### Basic cleaning",
   "id": "52de445d939e506e"
  },
  {
   "metadata": {
    "ExecuteTime": {
     "end_time": "2025-05-09T07:27:13.085435Z",
     "start_time": "2025-05-09T07:27:13.077703Z"
    }
   },
   "cell_type": "code",
   "source": [
    "#Checking the top lines of the primary dataframe\n",
    "df_ts.head(10)"
   ],
   "id": "327a7bd28259e486",
   "outputs": [
    {
     "data": {
      "text/plain": [
       "       id        date  store_nbr  item_nbr  unit_sales onpromotion\n",
       "1   18790  2013-01-02         24    105574       12.00         NaN\n",
       "2   18791  2013-01-02         24    105575        2.00         NaN\n",
       "3   18792  2013-01-02         24    105577        1.00         NaN\n",
       "4   18793  2013-01-02         24    105693        7.00         NaN\n",
       "5   18794  2013-01-02         24    105737       17.00         NaN\n",
       "6   18795  2013-01-02         24    105857        1.00         NaN\n",
       "7   18796  2013-01-02         24    106716        3.00         NaN\n",
       "10  18799  2013-01-02         24    108786        3.00         NaN\n",
       "11  18800  2013-01-02         24    108797        2.00         NaN\n",
       "13  18802  2013-01-02         24    108862        3.00         NaN"
      ],
      "text/html": [
       "<div>\n",
       "<style scoped>\n",
       "    .dataframe tbody tr th:only-of-type {\n",
       "        vertical-align: middle;\n",
       "    }\n",
       "\n",
       "    .dataframe tbody tr th {\n",
       "        vertical-align: top;\n",
       "    }\n",
       "\n",
       "    .dataframe thead th {\n",
       "        text-align: right;\n",
       "    }\n",
       "</style>\n",
       "<table border=\"1\" class=\"dataframe\">\n",
       "  <thead>\n",
       "    <tr style=\"text-align: right;\">\n",
       "      <th></th>\n",
       "      <th>id</th>\n",
       "      <th>date</th>\n",
       "      <th>store_nbr</th>\n",
       "      <th>item_nbr</th>\n",
       "      <th>unit_sales</th>\n",
       "      <th>onpromotion</th>\n",
       "    </tr>\n",
       "  </thead>\n",
       "  <tbody>\n",
       "    <tr>\n",
       "      <th>1</th>\n",
       "      <td>18790</td>\n",
       "      <td>2013-01-02</td>\n",
       "      <td>24</td>\n",
       "      <td>105574</td>\n",
       "      <td>12.00</td>\n",
       "      <td>NaN</td>\n",
       "    </tr>\n",
       "    <tr>\n",
       "      <th>2</th>\n",
       "      <td>18791</td>\n",
       "      <td>2013-01-02</td>\n",
       "      <td>24</td>\n",
       "      <td>105575</td>\n",
       "      <td>2.00</td>\n",
       "      <td>NaN</td>\n",
       "    </tr>\n",
       "    <tr>\n",
       "      <th>3</th>\n",
       "      <td>18792</td>\n",
       "      <td>2013-01-02</td>\n",
       "      <td>24</td>\n",
       "      <td>105577</td>\n",
       "      <td>1.00</td>\n",
       "      <td>NaN</td>\n",
       "    </tr>\n",
       "    <tr>\n",
       "      <th>4</th>\n",
       "      <td>18793</td>\n",
       "      <td>2013-01-02</td>\n",
       "      <td>24</td>\n",
       "      <td>105693</td>\n",
       "      <td>7.00</td>\n",
       "      <td>NaN</td>\n",
       "    </tr>\n",
       "    <tr>\n",
       "      <th>5</th>\n",
       "      <td>18794</td>\n",
       "      <td>2013-01-02</td>\n",
       "      <td>24</td>\n",
       "      <td>105737</td>\n",
       "      <td>17.00</td>\n",
       "      <td>NaN</td>\n",
       "    </tr>\n",
       "    <tr>\n",
       "      <th>6</th>\n",
       "      <td>18795</td>\n",
       "      <td>2013-01-02</td>\n",
       "      <td>24</td>\n",
       "      <td>105857</td>\n",
       "      <td>1.00</td>\n",
       "      <td>NaN</td>\n",
       "    </tr>\n",
       "    <tr>\n",
       "      <th>7</th>\n",
       "      <td>18796</td>\n",
       "      <td>2013-01-02</td>\n",
       "      <td>24</td>\n",
       "      <td>106716</td>\n",
       "      <td>3.00</td>\n",
       "      <td>NaN</td>\n",
       "    </tr>\n",
       "    <tr>\n",
       "      <th>10</th>\n",
       "      <td>18799</td>\n",
       "      <td>2013-01-02</td>\n",
       "      <td>24</td>\n",
       "      <td>108786</td>\n",
       "      <td>3.00</td>\n",
       "      <td>NaN</td>\n",
       "    </tr>\n",
       "    <tr>\n",
       "      <th>11</th>\n",
       "      <td>18800</td>\n",
       "      <td>2013-01-02</td>\n",
       "      <td>24</td>\n",
       "      <td>108797</td>\n",
       "      <td>2.00</td>\n",
       "      <td>NaN</td>\n",
       "    </tr>\n",
       "    <tr>\n",
       "      <th>13</th>\n",
       "      <td>18802</td>\n",
       "      <td>2013-01-02</td>\n",
       "      <td>24</td>\n",
       "      <td>108862</td>\n",
       "      <td>3.00</td>\n",
       "      <td>NaN</td>\n",
       "    </tr>\n",
       "  </tbody>\n",
       "</table>\n",
       "</div>"
      ]
     },
     "execution_count": 18,
     "metadata": {},
     "output_type": "execute_result"
    }
   ],
   "execution_count": 18
  },
  {
   "metadata": {
    "ExecuteTime": {
     "end_time": "2025-05-09T07:27:15.037783Z",
     "start_time": "2025-05-09T07:27:15.026477Z"
    }
   },
   "cell_type": "code",
   "source": [
    "#Checking data types\n",
    "df_ts.info()"
   ],
   "id": "cbebc5eccd02fae9",
   "outputs": [
    {
     "name": "stdout",
     "output_type": "stream",
     "text": [
      "<class 'pandas.core.frame.DataFrame'>\n",
      "Index: 14745768 entries, 1 to 22941654\n",
      "Data columns (total 6 columns):\n",
      " #   Column       Dtype  \n",
      "---  ------       -----  \n",
      " 0   id           int64  \n",
      " 1   date         object \n",
      " 2   store_nbr    int64  \n",
      " 3   item_nbr     int64  \n",
      " 4   unit_sales   float64\n",
      " 5   onpromotion  object \n",
      "dtypes: float64(1), int64(3), object(2)\n",
      "memory usage: 787.5+ MB\n"
     ]
    }
   ],
   "execution_count": 19
  },
  {
   "metadata": {
    "ExecuteTime": {
     "end_time": "2025-05-09T07:27:21.483812Z",
     "start_time": "2025-05-09T07:27:21.140691Z"
    }
   },
   "cell_type": "code",
   "source": [
    "#Checking mid-points and variance in 'unit_sales'\n",
    "df_ts[\"unit_sales\"].describe(percentiles=(0.01, 0.05, 0.95, 0.99))"
   ],
   "id": "27999ee4b89872e0",
   "outputs": [
    {
     "data": {
      "text/plain": [
       "count   14,745,768.00\n",
       "mean             6.81\n",
       "std             18.90\n",
       "min        -10,002.00\n",
       "1%               1.00\n",
       "5%               1.00\n",
       "50%              3.00\n",
       "95%             23.00\n",
       "99%             57.00\n",
       "max         17,146.00\n",
       "Name: unit_sales, dtype: float64"
      ]
     },
     "execution_count": 20,
     "metadata": {},
     "output_type": "execute_result"
    }
   ],
   "execution_count": 20
  },
  {
   "metadata": {},
   "cell_type": "markdown",
   "source": "'unit_sales' includes negative values (product returns). Values also reveal heavy right-tail behaviour with max 3 orders of magnitude higher than the median.",
   "id": "2cc22305762c52b2"
  },
  {
   "metadata": {
    "ExecuteTime": {
     "end_time": "2025-05-09T07:27:43.994664Z",
     "start_time": "2025-05-09T07:27:43.942561Z"
    }
   },
   "cell_type": "code",
   "source": [
    "#Checking how many unit_sales are negative\n",
    "negative_sales_train = df_ts[df_ts['unit_sales'] < 0]\n",
    "negative_sales_train.shape"
   ],
   "id": "4bc994c1f26c6b5b",
   "outputs": [
    {
     "data": {
      "text/plain": [
       "(794, 6)"
      ]
     },
     "execution_count": 21,
     "metadata": {},
     "output_type": "execute_result"
    }
   ],
   "execution_count": 21
  },
  {
   "metadata": {
    "ExecuteTime": {
     "end_time": "2025-05-09T07:27:48.714713Z",
     "start_time": "2025-05-09T07:27:47.678127Z"
    }
   },
   "cell_type": "code",
   "source": [
    "#Filling negative unit sales with 0 to represent no sale\n",
    "df_ts = df_ts.copy()\n",
    "df_ts[\"unit_sales\"] = df_ts[\"unit_sales\"].clip(lower=0)"
   ],
   "id": "33cacaf3a1c0ad6c",
   "outputs": [],
   "execution_count": 22
  },
  {
   "metadata": {
    "ExecuteTime": {
     "end_time": "2025-05-09T07:27:54.477609Z",
     "start_time": "2025-05-09T07:27:54.255278Z"
    }
   },
   "cell_type": "code",
   "source": [
    "#Checking null value counts for 'onpromotion'\n",
    "df_ts[\"onpromotion\"].isnull().sum()"
   ],
   "id": "2f3b7dfc618748f5",
   "outputs": [
    {
     "data": {
      "text/plain": [
       "2747275"
      ]
     },
     "execution_count": 23,
     "metadata": {},
     "output_type": "execute_result"
    }
   ],
   "execution_count": 23
  },
  {
   "metadata": {
    "ExecuteTime": {
     "end_time": "2025-05-09T07:27:58.629578Z",
     "start_time": "2025-05-09T07:27:58.284889Z"
    }
   },
   "cell_type": "code",
   "source": [
    "#Checking values in onpromotion column\n",
    "df_ts[\"onpromotion\"].value_counts()"
   ],
   "id": "e8a6d2601901f25a",
   "outputs": [
    {
     "data": {
      "text/plain": [
       "onpromotion\n",
       "False    11319196\n",
       "True       679297\n",
       "Name: count, dtype: int64"
      ]
     },
     "execution_count": 24,
     "metadata": {},
     "output_type": "execute_result"
    }
   ],
   "execution_count": 24
  },
  {
   "metadata": {
    "ExecuteTime": {
     "end_time": "2025-05-09T07:28:34.354733Z",
     "start_time": "2025-05-09T07:28:33.132662Z"
    }
   },
   "cell_type": "code",
   "source": [
    "#Converting 'onpromotion' to Bool\n",
    "df_ts['onpromotion'] = df_ts['onpromotion'].map({'True': True, 'False': False})\n",
    "\n",
    "#Replacing missing values with False\n",
    "df_ts['onpromotion'] = df_ts['onpromotion'].fillna(False)"
   ],
   "id": "690bb37e46176c3a",
   "outputs": [
    {
     "name": "stderr",
     "output_type": "stream",
     "text": [
      "/var/folders/2v/m_x7n7fs78d907pmmk92pbmm0000gn/T/ipykernel_18868/1317307128.py:5: FutureWarning: Downcasting object dtype arrays on .fillna, .ffill, .bfill is deprecated and will change in a future version. Call result.infer_objects(copy=False) instead. To opt-in to the future behavior, set `pd.set_option('future.no_silent_downcasting', True)`\n",
      "  df_ts['onpromotion'] = df_ts['onpromotion'].fillna(False)\n"
     ]
    }
   ],
   "execution_count": 25
  },
  {
   "metadata": {
    "ExecuteTime": {
     "end_time": "2025-05-09T07:28:39.762801Z",
     "start_time": "2025-05-09T07:28:39.671161Z"
    }
   },
   "cell_type": "code",
   "source": [
    "#Converting onpromotion to 0 = False, 1 = True\n",
    "df_ts['onpromotion'] = df_ts['onpromotion'].astype(int)\n",
    "df_ts[\"onpromotion\"].value_counts()"
   ],
   "id": "b0fdb3b8f1140fb",
   "outputs": [
    {
     "data": {
      "text/plain": [
       "onpromotion\n",
       "0    14066471\n",
       "1      679297\n",
       "Name: count, dtype: int64"
      ]
     },
     "execution_count": 26,
     "metadata": {},
     "output_type": "execute_result"
    }
   ],
   "execution_count": 26
  },
  {
   "metadata": {},
   "cell_type": "markdown",
   "source": "##### Applying full date range and filling missing days",
   "id": "213af64972c9daaf"
  },
  {
   "metadata": {
    "ExecuteTime": {
     "end_time": "2025-05-09T07:28:47.585553Z",
     "start_time": "2025-05-09T07:28:46.843033Z"
    }
   },
   "cell_type": "code",
   "source": [
    "#Getting min and max dates to create a full date range\n",
    "min_date = df_ts[\"date\"].min()\n",
    "max_date = df_ts[\"date\"].max()\n",
    "\n",
    "#Getting full date range\n",
    "full_date_range = pd.DataFrame({\"date\": pd.date_range(min_date, max_date, freq=\"D\")})"
   ],
   "id": "23156a6d386d3c69",
   "outputs": [],
   "execution_count": 27
  },
  {
   "metadata": {
    "ExecuteTime": {
     "end_time": "2025-05-09T07:28:54.060685Z",
     "start_time": "2025-05-09T07:28:51.561661Z"
    }
   },
   "cell_type": "code",
   "source": [
    "#Creating a df with all (store, item, date) columns\n",
    "store_item_combinations = df_ts[[\"store_nbr\", \"item_nbr\"]].drop_duplicates()\n",
    "all_combinations = store_item_combinations.merge(full_date_range, how=\"cross\")"
   ],
   "id": "434de84d6eb0ac02",
   "outputs": [],
   "execution_count": 28
  },
  {
   "metadata": {
    "ExecuteTime": {
     "end_time": "2025-05-09T07:28:59.367587Z",
     "start_time": "2025-05-09T07:28:58.647972Z"
    }
   },
   "cell_type": "code",
   "source": [
    "#Updating date column to datetime type\n",
    "all_combinations['date'] = pd.to_datetime(all_combinations['date'])\n",
    "df_ts['date'] = pd.to_datetime(df_ts['date'])"
   ],
   "id": "ff9f10373ab53e3b",
   "outputs": [],
   "execution_count": 29
  },
  {
   "metadata": {
    "ExecuteTime": {
     "end_time": "2025-05-09T07:29:12.119374Z",
     "start_time": "2025-05-09T07:29:03.821891Z"
    }
   },
   "cell_type": "code",
   "source": [
    "#Merging with primary dataframe to fill missing values\n",
    "df_ts = all_combinations.merge(df_ts, on=[\"store_nbr\", \"item_nbr\", \"date\"], how=\"left\")"
   ],
   "id": "c27230b519b3d095",
   "outputs": [],
   "execution_count": 30
  },
  {
   "metadata": {
    "ExecuteTime": {
     "end_time": "2025-05-09T07:30:06.474823Z",
     "start_time": "2025-05-09T07:30:06.448701Z"
    }
   },
   "cell_type": "code",
   "source": [
    "#Doubel checking dtypes and columns\n",
    "df_ts.info()"
   ],
   "id": "ea18559596d183e7",
   "outputs": [
    {
     "name": "stdout",
     "output_type": "stream",
     "text": [
      "<class 'pandas.core.frame.DataFrame'>\n",
      "RangeIndex: 35069356 entries, 0 to 35069355\n",
      "Data columns (total 6 columns):\n",
      " #   Column       Dtype         \n",
      "---  ------       -----         \n",
      " 0   store_nbr    int64         \n",
      " 1   item_nbr     int64         \n",
      " 2   date         datetime64[ns]\n",
      " 3   id           float64       \n",
      " 4   unit_sales   float64       \n",
      " 5   onpromotion  float64       \n",
      "dtypes: datetime64[ns](1), float64(3), int64(2)\n",
      "memory usage: 1.6 GB\n"
     ]
    }
   ],
   "execution_count": 31
  },
  {
   "metadata": {
    "ExecuteTime": {
     "end_time": "2025-05-09T07:31:03.879751Z",
     "start_time": "2025-05-09T07:31:02.939140Z"
    }
   },
   "cell_type": "code",
   "source": [
    "#Dropping id column as not needed for EDA or modelling\n",
    "df_ts = df_ts.drop(columns=\"id\")"
   ],
   "id": "cee5dc38e7c70857",
   "outputs": [],
   "execution_count": 33
  },
  {
   "metadata": {},
   "cell_type": "markdown",
   "source": "#### Checkpoint",
   "id": "9b86b2a56f51bf1e"
  },
  {
   "metadata": {
    "ExecuteTime": {
     "end_time": "2025-05-09T07:31:14.754957Z",
     "start_time": "2025-05-09T07:31:12.868620Z"
    }
   },
   "cell_type": "code",
   "source": [
    "#Saving a checkpoint after merging\n",
    "df_ts.to_parquet(\"/Users/dan/PycharmProjects/Masterschool/TimeSeriesRetailForecast/data/df_ts_checkpoint2.parquet\")\n",
    "print(\"Checkpoint 2 saved successfully!\")"
   ],
   "id": "f5924f753384f9af",
   "outputs": [
    {
     "name": "stdout",
     "output_type": "stream",
     "text": [
      "Checkpoint 2 saved successfully!\n"
     ]
    }
   ],
   "execution_count": 34
  },
  {
   "metadata": {
    "ExecuteTime": {
     "end_time": "2025-05-05T15:20:16.862085Z",
     "start_time": "2025-05-05T15:20:15.306858Z"
    }
   },
   "cell_type": "code",
   "source": "df_ts = pd.read_parquet(\"/Users/dan/PycharmProjects/Masterschool/TimeSeriesRetailForecast//data/df_ts_checkpoint2.parquet\")",
   "id": "8287a3c4bc012fd1",
   "outputs": [],
   "execution_count": 5
  },
  {
   "metadata": {},
   "cell_type": "markdown",
   "source": "### Raw EDA",
   "id": "5fbb9c10103d6a36"
  },
  {
   "metadata": {},
   "cell_type": "markdown",
   "source": "#### Train",
   "id": "2f5928468a04cb6b"
  },
  {
   "metadata": {
    "ExecuteTime": {
     "end_time": "2025-05-09T07:31:21.438564Z",
     "start_time": "2025-05-09T07:31:21.429185Z"
    }
   },
   "cell_type": "code",
   "source": "df_ts.head()",
   "id": "7668b33abcd56be4",
   "outputs": [
    {
     "data": {
      "text/plain": [
       "   store_nbr  item_nbr       date  unit_sales  onpromotion\n",
       "0         24    105574 2013-01-02       12.00         0.00\n",
       "1         24    105574 2013-01-03        1.00         0.00\n",
       "2         24    105574 2013-01-04        3.00         0.00\n",
       "3         24    105574 2013-01-05        4.00         0.00\n",
       "4         24    105574 2013-01-06        7.00         0.00"
      ],
      "text/html": [
       "<div>\n",
       "<style scoped>\n",
       "    .dataframe tbody tr th:only-of-type {\n",
       "        vertical-align: middle;\n",
       "    }\n",
       "\n",
       "    .dataframe tbody tr th {\n",
       "        vertical-align: top;\n",
       "    }\n",
       "\n",
       "    .dataframe thead th {\n",
       "        text-align: right;\n",
       "    }\n",
       "</style>\n",
       "<table border=\"1\" class=\"dataframe\">\n",
       "  <thead>\n",
       "    <tr style=\"text-align: right;\">\n",
       "      <th></th>\n",
       "      <th>store_nbr</th>\n",
       "      <th>item_nbr</th>\n",
       "      <th>date</th>\n",
       "      <th>unit_sales</th>\n",
       "      <th>onpromotion</th>\n",
       "    </tr>\n",
       "  </thead>\n",
       "  <tbody>\n",
       "    <tr>\n",
       "      <th>0</th>\n",
       "      <td>24</td>\n",
       "      <td>105574</td>\n",
       "      <td>2013-01-02</td>\n",
       "      <td>12.00</td>\n",
       "      <td>0.00</td>\n",
       "    </tr>\n",
       "    <tr>\n",
       "      <th>1</th>\n",
       "      <td>24</td>\n",
       "      <td>105574</td>\n",
       "      <td>2013-01-03</td>\n",
       "      <td>1.00</td>\n",
       "      <td>0.00</td>\n",
       "    </tr>\n",
       "    <tr>\n",
       "      <th>2</th>\n",
       "      <td>24</td>\n",
       "      <td>105574</td>\n",
       "      <td>2013-01-04</td>\n",
       "      <td>3.00</td>\n",
       "      <td>0.00</td>\n",
       "    </tr>\n",
       "    <tr>\n",
       "      <th>3</th>\n",
       "      <td>24</td>\n",
       "      <td>105574</td>\n",
       "      <td>2013-01-05</td>\n",
       "      <td>4.00</td>\n",
       "      <td>0.00</td>\n",
       "    </tr>\n",
       "    <tr>\n",
       "      <th>4</th>\n",
       "      <td>24</td>\n",
       "      <td>105574</td>\n",
       "      <td>2013-01-06</td>\n",
       "      <td>7.00</td>\n",
       "      <td>0.00</td>\n",
       "    </tr>\n",
       "  </tbody>\n",
       "</table>\n",
       "</div>"
      ]
     },
     "execution_count": 35,
     "metadata": {},
     "output_type": "execute_result"
    }
   ],
   "execution_count": 35
  },
  {
   "metadata": {
    "ExecuteTime": {
     "end_time": "2025-05-09T07:31:37.489146Z",
     "start_time": "2025-05-09T07:31:37.323206Z"
    }
   },
   "cell_type": "code",
   "source": [
    "#Checking how many unique stores we have after filtering\n",
    "df_ts[\"store_nbr\"].nunique()"
   ],
   "id": "a1156dbe33688e71",
   "outputs": [
    {
     "data": {
      "text/plain": [
       "11"
      ]
     },
     "execution_count": 36,
     "metadata": {},
     "output_type": "execute_result"
    }
   ],
   "execution_count": 36
  },
  {
   "metadata": {
    "ExecuteTime": {
     "end_time": "2025-05-09T07:33:58.891926Z",
     "start_time": "2025-05-09T07:31:40.861185Z"
    }
   },
   "cell_type": "code",
   "source": [
    "#Plotting Unit Sales by Store Number to understand differences in scale\n",
    "sns.set_style(\"whitegrid\")\n",
    "sns.color_palette(\"coolwarm\")\n",
    "\n",
    "plt.figure(figsize=(8, 5))\n",
    "sns.barplot(df_ts, x=\"store_nbr\", y=\"unit_sales\")\n",
    "plt.title(\"Unit Sales per Store\")\n",
    "plt.xlabel(\"Store Number\")\n",
    "plt.ylabel(\"Quantity\")\n",
    "plt.show()"
   ],
   "id": "df52d62b526f0d8f",
   "outputs": [
    {
     "data": {
      "text/plain": [
       "<Figure size 800x500 with 1 Axes>"
      ],
      "image/png": "[encoded data removed]"
     },
     "metadata": {},
     "output_type": "display_data"
    }
   ],
   "execution_count": 37
  },
  {
   "metadata": {
    "ExecuteTime": {
     "end_time": "2025-05-09T07:34:04.239490Z",
     "start_time": "2025-05-09T07:34:04.233449Z"
    }
   },
   "cell_type": "code",
   "source": [
    "#Recording store numbers\n",
    "guayas_store_nbr = {24, 26, 27, 28, 29, 30, 32, 34, 35, 36, 51}"
   ],
   "id": "2f3a8dfc4ed5aace",
   "outputs": [],
   "execution_count": 38
  },
  {
   "metadata": {
    "ExecuteTime": {
     "end_time": "2025-05-09T07:34:38.658134Z",
     "start_time": "2025-05-09T07:34:11.519628Z"
    }
   },
   "cell_type": "code",
   "source": [
    "#Plotting Unit Sales to see scale of distribution\n",
    "plt.figure(figsize=(8, 5))\n",
    "sns.boxplot(df_ts, x=\"unit_sales\")\n",
    "plt.title(\"Box Plot of Unit Sales\")\n",
    "plt.xlabel(\"Unit Sales\")\n",
    "plt.show()"
   ],
   "id": "3c608c642a157bfc",
   "outputs": [
    {
     "data": {
      "text/plain": [
       "<Figure size 800x500 with 1 Axes>"
      ],
      "image/png": "[encoded data removed]"
     },
     "metadata": {},
     "output_type": "display_data"
    }
   ],
   "execution_count": 39
  },
  {
   "metadata": {
    "ExecuteTime": {
     "end_time": "2025-05-09T07:35:08.075930Z",
     "start_time": "2025-05-09T07:34:42.313231Z"
    }
   },
   "cell_type": "code",
   "source": [
    "#Plotting again but without outliers to explore mean and variance\n",
    "plt.figure(figsize=(8, 5))\n",
    "sns.boxplot(x=df_ts[\"unit_sales\"], showfliers=False)\n",
    "plt.title(\"Box Plot of Unit Sales Excluding Outliers\")\n",
    "plt.xlabel(\"Unit Sales\")\n",
    "plt.show()"
   ],
   "id": "c41038a76fdafee0",
   "outputs": [
    {
     "data": {
      "text/plain": [
       "<Figure size 800x500 with 1 Axes>"
      ],
      "image/png": "[encoded data removed]"
     },
     "metadata": {},
     "output_type": "display_data"
    }
   ],
   "execution_count": 40
  },
  {
   "metadata": {},
   "cell_type": "markdown",
   "source": "There are some significant outliers in unit_sales (our target for forecasting) so log transformation will be necessary.",
   "id": "a16ea08f7e5f8b38"
  },
  {
   "metadata": {},
   "cell_type": "markdown",
   "source": "#### Stores",
   "id": "84df09de8b21b94f"
  },
  {
   "metadata": {
    "ExecuteTime": {
     "end_time": "2025-05-09T07:35:18.604533Z",
     "start_time": "2025-05-09T07:35:18.596277Z"
    }
   },
   "cell_type": "code",
   "source": [
    "#Focusing only on Guayas region as per earlier filtering in train df\n",
    "df_stores_guayas = df_stores[df_stores['state'] == 'Guayas']\n",
    "df_stores_guayas.head()"
   ],
   "id": "a508323b21a90d1e",
   "outputs": [
    {
     "data": {
      "text/plain": [
       "    store_nbr       city   state type  cluster\n",
       "23         24  Guayaquil  Guayas    D        1\n",
       "25         26  Guayaquil  Guayas    D       10\n",
       "26         27      Daule  Guayas    D        1\n",
       "27         28  Guayaquil  Guayas    E       10\n",
       "28         29  Guayaquil  Guayas    E       10"
      ],
      "text/html": [
       "<div>\n",
       "<style scoped>\n",
       "    .dataframe tbody tr th:only-of-type {\n",
       "        vertical-align: middle;\n",
       "    }\n",
       "\n",
       "    .dataframe tbody tr th {\n",
       "        vertical-align: top;\n",
       "    }\n",
       "\n",
       "    .dataframe thead th {\n",
       "        text-align: right;\n",
       "    }\n",
       "</style>\n",
       "<table border=\"1\" class=\"dataframe\">\n",
       "  <thead>\n",
       "    <tr style=\"text-align: right;\">\n",
       "      <th></th>\n",
       "      <th>store_nbr</th>\n",
       "      <th>city</th>\n",
       "      <th>state</th>\n",
       "      <th>type</th>\n",
       "      <th>cluster</th>\n",
       "    </tr>\n",
       "  </thead>\n",
       "  <tbody>\n",
       "    <tr>\n",
       "      <th>23</th>\n",
       "      <td>24</td>\n",
       "      <td>Guayaquil</td>\n",
       "      <td>Guayas</td>\n",
       "      <td>D</td>\n",
       "      <td>1</td>\n",
       "    </tr>\n",
       "    <tr>\n",
       "      <th>25</th>\n",
       "      <td>26</td>\n",
       "      <td>Guayaquil</td>\n",
       "      <td>Guayas</td>\n",
       "      <td>D</td>\n",
       "      <td>10</td>\n",
       "    </tr>\n",
       "    <tr>\n",
       "      <th>26</th>\n",
       "      <td>27</td>\n",
       "      <td>Daule</td>\n",
       "      <td>Guayas</td>\n",
       "      <td>D</td>\n",
       "      <td>1</td>\n",
       "    </tr>\n",
       "    <tr>\n",
       "      <th>27</th>\n",
       "      <td>28</td>\n",
       "      <td>Guayaquil</td>\n",
       "      <td>Guayas</td>\n",
       "      <td>E</td>\n",
       "      <td>10</td>\n",
       "    </tr>\n",
       "    <tr>\n",
       "      <th>28</th>\n",
       "      <td>29</td>\n",
       "      <td>Guayaquil</td>\n",
       "      <td>Guayas</td>\n",
       "      <td>E</td>\n",
       "      <td>10</td>\n",
       "    </tr>\n",
       "  </tbody>\n",
       "</table>\n",
       "</div>"
      ]
     },
     "execution_count": 41,
     "metadata": {},
     "output_type": "execute_result"
    }
   ],
   "execution_count": 41
  },
  {
   "metadata": {
    "ExecuteTime": {
     "end_time": "2025-05-09T07:35:26.883222Z",
     "start_time": "2025-05-09T07:35:26.820740Z"
    }
   },
   "cell_type": "code",
   "source": [
    "#Plotting Stores per City to understand distribution\n",
    "plt.figure(figsize=(8, 5))\n",
    "\n",
    "sns.histplot(df_stores_guayas, x=\"city\")\n",
    "plt.title(\"Stores per City in Guayas Region\")\n",
    "plt.xlabel(\"City\")\n",
    "plt.ylabel(\"Frequency\")\n",
    "plt.show()"
   ],
   "id": "601df3f380beacea",
   "outputs": [
    {
     "data": {
      "text/plain": [
       "<Figure size 800x500 with 1 Axes>"
      ],
      "image/png": "[encoded data removed]"
     },
     "metadata": {},
     "output_type": "display_data"
    }
   ],
   "execution_count": 42
  },
  {
   "metadata": {
    "ExecuteTime": {
     "end_time": "2025-05-09T07:35:30.747673Z",
     "start_time": "2025-05-09T07:35:30.696370Z"
    }
   },
   "cell_type": "code",
   "source": [
    "#Plotting Store Type to understand distribution\n",
    "plt.figure(figsize=(8, 5))\n",
    "\n",
    "sns.histplot(df_stores_guayas, x=\"type\")\n",
    "plt.title(\"Distribution of Store Types Guayas\")\n",
    "plt.xlabel(\"City\")\n",
    "plt.ylabel(\"Frequency\")\n",
    "plt.show()"
   ],
   "id": "ac4bb8370779a482",
   "outputs": [
    {
     "data": {
      "text/plain": [
       "<Figure size 800x500 with 1 Axes>"
      ],
      "image/png": "[encoded data removed]"
     },
     "metadata": {},
     "output_type": "display_data"
    }
   ],
   "execution_count": 43
  },
  {
   "metadata": {},
   "cell_type": "markdown",
   "source": "#### Items",
   "id": "fe6b036bbb090548"
  },
  {
   "metadata": {
    "ExecuteTime": {
     "end_time": "2025-05-09T07:35:35.517214Z",
     "start_time": "2025-05-09T07:35:35.511381Z"
    }
   },
   "cell_type": "code",
   "source": [
    "#Filtering items to only include the top families (as per our earlier filtering)\n",
    "df_items_top = df_items[df_items[\"family\"].isin([\"GROCERY I\", \"BEVERAGES\", \"CLEANING\"])].copy()"
   ],
   "id": "ec213e97235a8fe9",
   "outputs": [],
   "execution_count": 44
  },
  {
   "metadata": {
    "ExecuteTime": {
     "end_time": "2025-05-09T07:35:37.357613Z",
     "start_time": "2025-05-09T07:35:37.333204Z"
    }
   },
   "cell_type": "code",
   "source": "df_items_top.head()",
   "id": "4c8e18930dfb2d3c",
   "outputs": [
    {
     "data": {
      "text/plain": [
       "   item_nbr     family  class  perishable\n",
       "0     96995  GROCERY I   1093           0\n",
       "1     99197  GROCERY I   1067           0\n",
       "2    103501   CLEANING   3008           0\n",
       "3    103520  GROCERY I   1028           0\n",
       "5    105574  GROCERY I   1045           0"
      ],
      "text/html": [
       "<div>\n",
       "<style scoped>\n",
       "    .dataframe tbody tr th:only-of-type {\n",
       "        vertical-align: middle;\n",
       "    }\n",
       "\n",
       "    .dataframe tbody tr th {\n",
       "        vertical-align: top;\n",
       "    }\n",
       "\n",
       "    .dataframe thead th {\n",
       "        text-align: right;\n",
       "    }\n",
       "</style>\n",
       "<table border=\"1\" class=\"dataframe\">\n",
       "  <thead>\n",
       "    <tr style=\"text-align: right;\">\n",
       "      <th></th>\n",
       "      <th>item_nbr</th>\n",
       "      <th>family</th>\n",
       "      <th>class</th>\n",
       "      <th>perishable</th>\n",
       "    </tr>\n",
       "  </thead>\n",
       "  <tbody>\n",
       "    <tr>\n",
       "      <th>0</th>\n",
       "      <td>96995</td>\n",
       "      <td>GROCERY I</td>\n",
       "      <td>1093</td>\n",
       "      <td>0</td>\n",
       "    </tr>\n",
       "    <tr>\n",
       "      <th>1</th>\n",
       "      <td>99197</td>\n",
       "      <td>GROCERY I</td>\n",
       "      <td>1067</td>\n",
       "      <td>0</td>\n",
       "    </tr>\n",
       "    <tr>\n",
       "      <th>2</th>\n",
       "      <td>103501</td>\n",
       "      <td>CLEANING</td>\n",
       "      <td>3008</td>\n",
       "      <td>0</td>\n",
       "    </tr>\n",
       "    <tr>\n",
       "      <th>3</th>\n",
       "      <td>103520</td>\n",
       "      <td>GROCERY I</td>\n",
       "      <td>1028</td>\n",
       "      <td>0</td>\n",
       "    </tr>\n",
       "    <tr>\n",
       "      <th>5</th>\n",
       "      <td>105574</td>\n",
       "      <td>GROCERY I</td>\n",
       "      <td>1045</td>\n",
       "      <td>0</td>\n",
       "    </tr>\n",
       "  </tbody>\n",
       "</table>\n",
       "</div>"
      ]
     },
     "execution_count": 45,
     "metadata": {},
     "output_type": "execute_result"
    }
   ],
   "execution_count": 45
  },
  {
   "metadata": {
    "ExecuteTime": {
     "end_time": "2025-05-09T07:35:41.207982Z",
     "start_time": "2025-05-09T07:35:41.201535Z"
    }
   },
   "cell_type": "code",
   "source": [
    "#Checking for null values\n",
    "df_items.isnull().sum()"
   ],
   "id": "1905aeef1207bf4b",
   "outputs": [
    {
     "data": {
      "text/plain": [
       "item_nbr      0\n",
       "family        0\n",
       "class         0\n",
       "perishable    0\n",
       "dtype: int64"
      ]
     },
     "execution_count": 46,
     "metadata": {},
     "output_type": "execute_result"
    }
   ],
   "execution_count": 46
  },
  {
   "metadata": {
    "ExecuteTime": {
     "end_time": "2025-05-09T07:35:46.712497Z",
     "start_time": "2025-05-09T07:35:46.658839Z"
    }
   },
   "cell_type": "code",
   "source": [
    "#Plotting item family by frequency\n",
    "sns.histplot(df_items_top, x=\"family\")\n",
    "plt.title(\"Distribution of Item Family\")\n",
    "plt.xlabel(\"Family\")\n",
    "plt.ylabel(\"Frequency\")\n",
    "plt.show()"
   ],
   "id": "2f71634540322adb",
   "outputs": [
    {
     "data": {
      "text/plain": [
       "<Figure size 640x480 with 1 Axes>"
      ],
      "image/png": "[encoded data removed]"
     },
     "metadata": {},
     "output_type": "display_data"
    }
   ],
   "execution_count": 47
  },
  {
   "metadata": {
    "ExecuteTime": {
     "end_time": "2025-05-09T07:35:49.683980Z",
     "start_time": "2025-05-09T07:35:49.676081Z"
    }
   },
   "cell_type": "code",
   "source": [
    "#Checking value counts for perishable feature\n",
    "df_items_top[\"perishable\"].value_counts()"
   ],
   "id": "f015268113404025",
   "outputs": [
    {
     "data": {
      "text/plain": [
       "perishable\n",
       "0    2393\n",
       "Name: count, dtype: int64"
      ]
     },
     "execution_count": 48,
     "metadata": {},
     "output_type": "execute_result"
    }
   ],
   "execution_count": 48
  },
  {
   "metadata": {},
   "cell_type": "markdown",
   "source": "Missing perishable values will need filling during data prep",
   "id": "1bf59ceefbb96c0e"
  },
  {
   "metadata": {},
   "cell_type": "markdown",
   "source": "#### Transactions",
   "id": "de5f0dbede9b836b"
  },
  {
   "metadata": {
    "ExecuteTime": {
     "end_time": "2025-05-09T07:36:06.138547Z",
     "start_time": "2025-05-09T07:36:06.127727Z"
    }
   },
   "cell_type": "code",
   "source": [
    "#Filtering data by stores in Guayas region\n",
    "mask = df_transactions[\"store_nbr\"].isin(guayas_store_nbr)\n",
    "df_transactions_guayas = df_transactions[mask]\n",
    "df_transactions_guayas.head()"
   ],
   "id": "e7e06fe7540bf0c7",
   "outputs": [
    {
     "data": {
      "text/plain": [
       "          date  store_nbr  transactions\n",
       "21  2013-01-02         24          2605\n",
       "23  2013-01-02         26          1008\n",
       "24  2013-01-02         27          1386\n",
       "25  2013-01-02         28           950\n",
       "26  2013-01-02         30           708"
      ],
      "text/html": [
       "<div>\n",
       "<style scoped>\n",
       "    .dataframe tbody tr th:only-of-type {\n",
       "        vertical-align: middle;\n",
       "    }\n",
       "\n",
       "    .dataframe tbody tr th {\n",
       "        vertical-align: top;\n",
       "    }\n",
       "\n",
       "    .dataframe thead th {\n",
       "        text-align: right;\n",
       "    }\n",
       "</style>\n",
       "<table border=\"1\" class=\"dataframe\">\n",
       "  <thead>\n",
       "    <tr style=\"text-align: right;\">\n",
       "      <th></th>\n",
       "      <th>date</th>\n",
       "      <th>store_nbr</th>\n",
       "      <th>transactions</th>\n",
       "    </tr>\n",
       "  </thead>\n",
       "  <tbody>\n",
       "    <tr>\n",
       "      <th>21</th>\n",
       "      <td>2013-01-02</td>\n",
       "      <td>24</td>\n",
       "      <td>2605</td>\n",
       "    </tr>\n",
       "    <tr>\n",
       "      <th>23</th>\n",
       "      <td>2013-01-02</td>\n",
       "      <td>26</td>\n",
       "      <td>1008</td>\n",
       "    </tr>\n",
       "    <tr>\n",
       "      <th>24</th>\n",
       "      <td>2013-01-02</td>\n",
       "      <td>27</td>\n",
       "      <td>1386</td>\n",
       "    </tr>\n",
       "    <tr>\n",
       "      <th>25</th>\n",
       "      <td>2013-01-02</td>\n",
       "      <td>28</td>\n",
       "      <td>950</td>\n",
       "    </tr>\n",
       "    <tr>\n",
       "      <th>26</th>\n",
       "      <td>2013-01-02</td>\n",
       "      <td>30</td>\n",
       "      <td>708</td>\n",
       "    </tr>\n",
       "  </tbody>\n",
       "</table>\n",
       "</div>"
      ]
     },
     "execution_count": 49,
     "metadata": {},
     "output_type": "execute_result"
    }
   ],
   "execution_count": 49
  },
  {
   "metadata": {
    "ExecuteTime": {
     "end_time": "2025-05-09T07:36:09.367273Z",
     "start_time": "2025-05-09T07:36:09.292638Z"
    }
   },
   "cell_type": "code",
   "source": [
    "#Plotting transactions by store number to understand distribution\n",
    "df_store_transactions = df_transactions_guayas.groupby(\"store_nbr\")[\"transactions\"].sum().reset_index()\n",
    "\n",
    "sns.barplot(df_store_transactions, y=\"transactions\", x=\"store_nbr\")\n",
    "plt.title(\"Transactions per Store\")\n",
    "plt.xlabel(\"Store Number\")\n",
    "plt.ylabel(\"Transactions\")\n",
    "plt.xticks(rotation=90)\n",
    "plt.show()"
   ],
   "id": "2cade6b768e7fe65",
   "outputs": [
    {
     "data": {
      "text/plain": [
       "<Figure size 640x480 with 1 Axes>"
      ],
      "image/png": "[encoded data removed]"
     },
     "metadata": {},
     "output_type": "display_data"
    }
   ],
   "execution_count": 50
  },
  {
   "metadata": {},
   "cell_type": "markdown",
   "source": "#### Oil",
   "id": "f7d039e4e6fb119a"
  },
  {
   "metadata": {
    "ExecuteTime": {
     "end_time": "2025-05-09T07:36:13.171Z",
     "start_time": "2025-05-09T07:36:13.167028Z"
    }
   },
   "cell_type": "code",
   "source": "df_oil.head()",
   "id": "5a3136f4ec04fe46",
   "outputs": [
    {
     "data": {
      "text/plain": [
       "         date  dcoilwtico\n",
       "0  2013-01-01         NaN\n",
       "1  2013-01-02       93.14\n",
       "2  2013-01-03       92.97\n",
       "3  2013-01-04       93.12\n",
       "4  2013-01-07       93.20"
      ],
      "text/html": [
       "<div>\n",
       "<style scoped>\n",
       "    .dataframe tbody tr th:only-of-type {\n",
       "        vertical-align: middle;\n",
       "    }\n",
       "\n",
       "    .dataframe tbody tr th {\n",
       "        vertical-align: top;\n",
       "    }\n",
       "\n",
       "    .dataframe thead th {\n",
       "        text-align: right;\n",
       "    }\n",
       "</style>\n",
       "<table border=\"1\" class=\"dataframe\">\n",
       "  <thead>\n",
       "    <tr style=\"text-align: right;\">\n",
       "      <th></th>\n",
       "      <th>date</th>\n",
       "      <th>dcoilwtico</th>\n",
       "    </tr>\n",
       "  </thead>\n",
       "  <tbody>\n",
       "    <tr>\n",
       "      <th>0</th>\n",
       "      <td>2013-01-01</td>\n",
       "      <td>NaN</td>\n",
       "    </tr>\n",
       "    <tr>\n",
       "      <th>1</th>\n",
       "      <td>2013-01-02</td>\n",
       "      <td>93.14</td>\n",
       "    </tr>\n",
       "    <tr>\n",
       "      <th>2</th>\n",
       "      <td>2013-01-03</td>\n",
       "      <td>92.97</td>\n",
       "    </tr>\n",
       "    <tr>\n",
       "      <th>3</th>\n",
       "      <td>2013-01-04</td>\n",
       "      <td>93.12</td>\n",
       "    </tr>\n",
       "    <tr>\n",
       "      <th>4</th>\n",
       "      <td>2013-01-07</td>\n",
       "      <td>93.20</td>\n",
       "    </tr>\n",
       "  </tbody>\n",
       "</table>\n",
       "</div>"
      ]
     },
     "execution_count": 51,
     "metadata": {},
     "output_type": "execute_result"
    }
   ],
   "execution_count": 51
  },
  {
   "metadata": {
    "ExecuteTime": {
     "end_time": "2025-05-09T07:36:15.110079Z",
     "start_time": "2025-05-09T07:36:15.103904Z"
    }
   },
   "cell_type": "code",
   "source": [
    "#Checking data types\n",
    "df_oil.info()"
   ],
   "id": "990fe64c9ce446b5",
   "outputs": [
    {
     "name": "stdout",
     "output_type": "stream",
     "text": [
      "<class 'pandas.core.frame.DataFrame'>\n",
      "RangeIndex: 1218 entries, 0 to 1217\n",
      "Data columns (total 2 columns):\n",
      " #   Column      Non-Null Count  Dtype  \n",
      "---  ------      --------------  -----  \n",
      " 0   date        1218 non-null   object \n",
      " 1   dcoilwtico  1175 non-null   float64\n",
      "dtypes: float64(1), object(1)\n",
      "memory usage: 19.2+ KB\n"
     ]
    }
   ],
   "execution_count": 52
  },
  {
   "metadata": {
    "ExecuteTime": {
     "end_time": "2025-05-09T07:36:17.538050Z",
     "start_time": "2025-05-09T07:36:17.531536Z"
    }
   },
   "cell_type": "code",
   "source": [
    "#Checking mid-points and variance\n",
    "df_oil.describe()"
   ],
   "id": "725b76f665d87ac",
   "outputs": [
    {
     "data": {
      "text/plain": [
       "       dcoilwtico\n",
       "count    1,175.00\n",
       "mean        67.71\n",
       "std         25.63\n",
       "min         26.19\n",
       "25%         46.41\n",
       "50%         53.19\n",
       "75%         95.66\n",
       "max        110.62"
      ],
      "text/html": [
       "<div>\n",
       "<style scoped>\n",
       "    .dataframe tbody tr th:only-of-type {\n",
       "        vertical-align: middle;\n",
       "    }\n",
       "\n",
       "    .dataframe tbody tr th {\n",
       "        vertical-align: top;\n",
       "    }\n",
       "\n",
       "    .dataframe thead th {\n",
       "        text-align: right;\n",
       "    }\n",
       "</style>\n",
       "<table border=\"1\" class=\"dataframe\">\n",
       "  <thead>\n",
       "    <tr style=\"text-align: right;\">\n",
       "      <th></th>\n",
       "      <th>dcoilwtico</th>\n",
       "    </tr>\n",
       "  </thead>\n",
       "  <tbody>\n",
       "    <tr>\n",
       "      <th>count</th>\n",
       "      <td>1,175.00</td>\n",
       "    </tr>\n",
       "    <tr>\n",
       "      <th>mean</th>\n",
       "      <td>67.71</td>\n",
       "    </tr>\n",
       "    <tr>\n",
       "      <th>std</th>\n",
       "      <td>25.63</td>\n",
       "    </tr>\n",
       "    <tr>\n",
       "      <th>min</th>\n",
       "      <td>26.19</td>\n",
       "    </tr>\n",
       "    <tr>\n",
       "      <th>25%</th>\n",
       "      <td>46.41</td>\n",
       "    </tr>\n",
       "    <tr>\n",
       "      <th>50%</th>\n",
       "      <td>53.19</td>\n",
       "    </tr>\n",
       "    <tr>\n",
       "      <th>75%</th>\n",
       "      <td>95.66</td>\n",
       "    </tr>\n",
       "    <tr>\n",
       "      <th>max</th>\n",
       "      <td>110.62</td>\n",
       "    </tr>\n",
       "  </tbody>\n",
       "</table>\n",
       "</div>"
      ]
     },
     "execution_count": 53,
     "metadata": {},
     "output_type": "execute_result"
    }
   ],
   "execution_count": 53
  },
  {
   "metadata": {
    "ExecuteTime": {
     "end_time": "2025-05-09T07:36:25.762692Z",
     "start_time": "2025-05-09T07:36:25.707766Z"
    }
   },
   "cell_type": "code",
   "source": [
    "#Plotting oil price variance\n",
    "sns.boxplot(df_oil, x=\"dcoilwtico\")\n",
    "plt.title(\"Variance in Oil Price\")\n",
    "plt.xlabel(\"Oil Price\")\n",
    "plt.tight_layout()\n",
    "plt.show()"
   ],
   "id": "a5bd8dafbbbb8d62",
   "outputs": [
    {
     "data": {
      "text/plain": [
       "<Figure size 640x480 with 1 Axes>"
      ],
      "image/png": "[encoded data removed]"
     },
     "metadata": {},
     "output_type": "display_data"
    }
   ],
   "execution_count": 54
  },
  {
   "metadata": {
    "ExecuteTime": {
     "end_time": "2025-05-09T07:36:33.181561Z",
     "start_time": "2025-05-09T07:36:33.164205Z"
    }
   },
   "cell_type": "code",
   "source": [
    "#Converting date from object to datetime\n",
    "df_oil['date'] = pd.to_datetime(df_oil['date'])"
   ],
   "id": "6a4522b025b5deaf",
   "outputs": [],
   "execution_count": 55
  },
  {
   "metadata": {
    "ExecuteTime": {
     "end_time": "2025-05-09T07:36:35.955496Z",
     "start_time": "2025-05-09T07:36:35.860520Z"
    }
   },
   "cell_type": "code",
   "source": [
    "#Plotting oil price as a time-series\n",
    "oil_by_date = df_oil.groupby('date')['dcoilwtico'].mean()\n",
    "\n",
    "plt.figure(figsize=(15,7))\n",
    "plt.plot(oil_by_date.index, oil_by_date.values)\n",
    "plt.title('Daily Oil Price Over Time')\n",
    "plt.xlabel('Date')\n",
    "plt.ylabel('Oil Price')\n",
    "plt.xticks(rotation=45)\n",
    "plt.tight_layout()\n",
    "plt.show()"
   ],
   "id": "7ff45d21e5fad4f2",
   "outputs": [
    {
     "data": {
      "text/plain": [
       "<Figure size 1500x700 with 1 Axes>"
      ],
      "image/png": "[encoded data removed]"
     },
     "metadata": {},
     "output_type": "display_data"
    }
   ],
   "execution_count": 56
  },
  {
   "metadata": {
    "ExecuteTime": {
     "end_time": "2025-05-09T07:36:42.323337Z",
     "start_time": "2025-05-09T07:36:42.314756Z"
    }
   },
   "cell_type": "code",
   "source": [
    "#Creating rolling averages for observation\n",
    "rolling_avg_7d = oil_by_date.rolling(window=7).mean()\n",
    "rolling_avg_30d = oil_by_date.rolling(window=30).mean()"
   ],
   "id": "5180c5e30574c320",
   "outputs": [],
   "execution_count": 57
  },
  {
   "metadata": {
    "ExecuteTime": {
     "end_time": "2025-05-09T07:36:44.415201Z",
     "start_time": "2025-05-09T07:36:44.313638Z"
    }
   },
   "cell_type": "code",
   "source": [
    "#Plotting rolling averages\n",
    "plt.figure(figsize=(15, 7))\n",
    "\n",
    "plt.plot(rolling_avg_7d.index, rolling_avg_7d.values, label='7-Day Rolling Avg', color='orange')\n",
    "plt.plot(rolling_avg_30d.index, rolling_avg_30d.values, label='30-Day Rolling Avg', color='red')\n",
    "\n",
    "plt.title('Daily Oil Price and Rolling Averages')\n",
    "plt.xlabel('Date')\n",
    "plt.ylabel('Oil Price')\n",
    "plt.xticks(rotation=45)\n",
    "plt.legend()\n",
    "plt.tight_layout()\n",
    "plt.show()"
   ],
   "id": "70af4573a17b6022",
   "outputs": [
    {
     "data": {
      "text/plain": [
       "<Figure size 1500x700 with 1 Axes>"
      ],
      "image/png": "[encoded data removed]"
     },
     "metadata": {},
     "output_type": "display_data"
    }
   ],
   "execution_count": 58
  },
  {
   "metadata": {},
   "cell_type": "markdown",
   "source": "Oil pricing has dropped significantly since mid 2024. I will add as a feature in case it has any effect on our target (unit_sales).",
   "id": "25ec470b6b69bcfc"
  },
  {
   "metadata": {},
   "cell_type": "markdown",
   "source": "#### Holidays events",
   "id": "e8d9000eee37c1"
  },
  {
   "metadata": {
    "ExecuteTime": {
     "end_time": "2025-05-09T07:36:51.221070Z",
     "start_time": "2025-05-09T07:36:51.215164Z"
    }
   },
   "cell_type": "code",
   "source": "df_holidays_events.head()",
   "id": "ac7d9b51213a6ea9",
   "outputs": [
    {
     "data": {
      "text/plain": [
       "         date     type    locale locale_name                    description  \\\n",
       "0  2012-03-02  Holiday     Local       Manta             Fundacion de Manta   \n",
       "1  2012-04-01  Holiday  Regional    Cotopaxi  Provincializacion de Cotopaxi   \n",
       "2  2012-04-12  Holiday     Local      Cuenca            Fundacion de Cuenca   \n",
       "3  2012-04-14  Holiday     Local    Libertad      Cantonizacion de Libertad   \n",
       "4  2012-04-21  Holiday     Local    Riobamba      Cantonizacion de Riobamba   \n",
       "\n",
       "   transferred  \n",
       "0        False  \n",
       "1        False  \n",
       "2        False  \n",
       "3        False  \n",
       "4        False  "
      ],
      "text/html": [
       "<div>\n",
       "<style scoped>\n",
       "    .dataframe tbody tr th:only-of-type {\n",
       "        vertical-align: middle;\n",
       "    }\n",
       "\n",
       "    .dataframe tbody tr th {\n",
       "        vertical-align: top;\n",
       "    }\n",
       "\n",
       "    .dataframe thead th {\n",
       "        text-align: right;\n",
       "    }\n",
       "</style>\n",
       "<table border=\"1\" class=\"dataframe\">\n",
       "  <thead>\n",
       "    <tr style=\"text-align: right;\">\n",
       "      <th></th>\n",
       "      <th>date</th>\n",
       "      <th>type</th>\n",
       "      <th>locale</th>\n",
       "      <th>locale_name</th>\n",
       "      <th>description</th>\n",
       "      <th>transferred</th>\n",
       "    </tr>\n",
       "  </thead>\n",
       "  <tbody>\n",
       "    <tr>\n",
       "      <th>0</th>\n",
       "      <td>2012-03-02</td>\n",
       "      <td>Holiday</td>\n",
       "      <td>Local</td>\n",
       "      <td>Manta</td>\n",
       "      <td>Fundacion de Manta</td>\n",
       "      <td>False</td>\n",
       "    </tr>\n",
       "    <tr>\n",
       "      <th>1</th>\n",
       "      <td>2012-04-01</td>\n",
       "      <td>Holiday</td>\n",
       "      <td>Regional</td>\n",
       "      <td>Cotopaxi</td>\n",
       "      <td>Provincializacion de Cotopaxi</td>\n",
       "      <td>False</td>\n",
       "    </tr>\n",
       "    <tr>\n",
       "      <th>2</th>\n",
       "      <td>2012-04-12</td>\n",
       "      <td>Holiday</td>\n",
       "      <td>Local</td>\n",
       "      <td>Cuenca</td>\n",
       "      <td>Fundacion de Cuenca</td>\n",
       "      <td>False</td>\n",
       "    </tr>\n",
       "    <tr>\n",
       "      <th>3</th>\n",
       "      <td>2012-04-14</td>\n",
       "      <td>Holiday</td>\n",
       "      <td>Local</td>\n",
       "      <td>Libertad</td>\n",
       "      <td>Cantonizacion de Libertad</td>\n",
       "      <td>False</td>\n",
       "    </tr>\n",
       "    <tr>\n",
       "      <th>4</th>\n",
       "      <td>2012-04-21</td>\n",
       "      <td>Holiday</td>\n",
       "      <td>Local</td>\n",
       "      <td>Riobamba</td>\n",
       "      <td>Cantonizacion de Riobamba</td>\n",
       "      <td>False</td>\n",
       "    </tr>\n",
       "  </tbody>\n",
       "</table>\n",
       "</div>"
      ]
     },
     "execution_count": 59,
     "metadata": {},
     "output_type": "execute_result"
    }
   ],
   "execution_count": 59
  },
  {
   "metadata": {
    "ExecuteTime": {
     "end_time": "2025-05-09T07:36:54.977549Z",
     "start_time": "2025-05-09T07:36:54.970846Z"
    }
   },
   "cell_type": "code",
   "source": [
    "#Checking data types\n",
    "df_holidays_events.info()"
   ],
   "id": "647b4df1bb3a3fb9",
   "outputs": [
    {
     "name": "stdout",
     "output_type": "stream",
     "text": [
      "<class 'pandas.core.frame.DataFrame'>\n",
      "RangeIndex: 350 entries, 0 to 349\n",
      "Data columns (total 6 columns):\n",
      " #   Column       Non-Null Count  Dtype \n",
      "---  ------       --------------  ----- \n",
      " 0   date         350 non-null    object\n",
      " 1   type         350 non-null    object\n",
      " 2   locale       350 non-null    object\n",
      " 3   locale_name  350 non-null    object\n",
      " 4   description  350 non-null    object\n",
      " 5   transferred  350 non-null    bool  \n",
      "dtypes: bool(1), object(5)\n",
      "memory usage: 14.1+ KB\n"
     ]
    }
   ],
   "execution_count": 60
  },
  {
   "metadata": {
    "ExecuteTime": {
     "end_time": "2025-05-09T07:36:59.972881Z",
     "start_time": "2025-05-09T07:36:59.967642Z"
    }
   },
   "cell_type": "code",
   "source": [
    "#Converting date to datetime dtype\n",
    "df_holidays_events[\"date\"] = pd.to_datetime(df_holidays_events[\"date\"])"
   ],
   "id": "8d518cfc00de90e9",
   "outputs": [],
   "execution_count": 61
  },
  {
   "metadata": {
    "ExecuteTime": {
     "end_time": "2025-05-09T07:37:26.722094Z",
     "start_time": "2025-05-09T07:37:26.709999Z"
    }
   },
   "cell_type": "code",
   "source": [
    "#Checking how many unique values exist in type feature\n",
    "df_holidays_events[\"type\"].nunique()"
   ],
   "id": "bf9b3ed5884072d9",
   "outputs": [
    {
     "data": {
      "text/plain": [
       "6"
      ]
     },
     "execution_count": 62,
     "metadata": {},
     "output_type": "execute_result"
    }
   ],
   "execution_count": 62
  },
  {
   "metadata": {
    "ExecuteTime": {
     "end_time": "2025-05-09T07:37:30.119525Z",
     "start_time": "2025-05-09T07:37:30.057022Z"
    }
   },
   "cell_type": "code",
   "source": [
    "#Plotting frequency of holiday event types\n",
    "sns.histplot(df_holidays_events, x=\"type\")\n",
    "plt.title(\"Count of Holiday Type\")\n",
    "plt.xlabel(\"Holiday Type\")\n",
    "plt.ylabel(\"Frequency\")\n",
    "plt.xticks(rotation=90)\n",
    "plt.show()"
   ],
   "id": "a848e17130f8471a",
   "outputs": [
    {
     "data": {
      "text/plain": [
       "<Figure size 640x480 with 1 Axes>"
      ],
      "image/png": "[encoded data removed]"
     },
     "metadata": {},
     "output_type": "display_data"
    }
   ],
   "execution_count": 63
  },
  {
   "metadata": {
    "ExecuteTime": {
     "end_time": "2025-05-09T07:37:35.096834Z",
     "start_time": "2025-05-09T07:37:35.093553Z"
    }
   },
   "cell_type": "code",
   "source": [
    "#Checking location of holiday events\n",
    "df_holidays_events[\"locale_name\"].value_counts()"
   ],
   "id": "6f0129690da28fd4",
   "outputs": [
    {
     "data": {
      "text/plain": [
       "locale_name\n",
       "Ecuador                           174\n",
       "Quito                              13\n",
       "Riobamba                           12\n",
       "Guaranda                           12\n",
       "Latacunga                          12\n",
       "Ambato                             12\n",
       "Guayaquil                          11\n",
       "Cuenca                              7\n",
       "Ibarra                              7\n",
       "Salinas                             6\n",
       "Loja                                6\n",
       "Santa Elena                         6\n",
       "Santo Domingo de los Tsachilas      6\n",
       "Quevedo                             6\n",
       "Manta                               6\n",
       "Esmeraldas                          6\n",
       "Cotopaxi                            6\n",
       "El Carmen                           6\n",
       "Santo Domingo                       6\n",
       "Machala                             6\n",
       "Imbabura                            6\n",
       "Puyo                                6\n",
       "Libertad                            6\n",
       "Cayambe                             6\n",
       "Name: count, dtype: int64"
      ]
     },
     "execution_count": 64,
     "metadata": {},
     "output_type": "execute_result"
    }
   ],
   "execution_count": 64
  },
  {
   "metadata": {
    "ExecuteTime": {
     "end_time": "2025-05-09T07:37:41.140910Z",
     "start_time": "2025-05-09T07:37:41.133782Z"
    }
   },
   "cell_type": "code",
   "source": [
    "#Checking how many holiday events took place on a different day than usual\n",
    "df_holidays_events[\"transferred\"].value_counts()"
   ],
   "id": "4a368a0258a07076",
   "outputs": [
    {
     "data": {
      "text/plain": [
       "transferred\n",
       "False    338\n",
       "True      12\n",
       "Name: count, dtype: int64"
      ]
     },
     "execution_count": 65,
     "metadata": {},
     "output_type": "execute_result"
    }
   ],
   "execution_count": 65
  },
  {
   "metadata": {},
   "cell_type": "markdown",
   "source": [
    "Next I will apply log transformation due to extreme outliers.\n",
    "\n",
    "I will then begin to engineer some initial features for further EDA and later modelling."
   ],
   "id": "ebf506e2379901d"
  },
  {
   "metadata": {},
   "cell_type": "markdown",
   "source": "### Log transformation",
   "id": "bb746a710bd3aed"
  },
  {
   "metadata": {
    "ExecuteTime": {
     "end_time": "2025-05-09T07:38:06.085770Z",
     "start_time": "2025-05-09T07:38:02.275276Z"
    }
   },
   "cell_type": "code",
   "source": [
    "#Replacing 'unit_sales' 0 with NaN\n",
    "df_ts['unit_sales'] = df_ts['unit_sales'].replace(0, np.nan)\n",
    "\n",
    "#Infering data types\n",
    "df_ts['unit_sales'] = df_ts['unit_sales'].infer_objects(copy=False)\n",
    "\n",
    "#Interpolating missing values in place\n",
    "df_ts['unit_sales'] = df_ts['unit_sales'].interpolate(method='linear')\n",
    "\n",
    "#Checking if there are still NaNs\n",
    "print(\"Remaining NaNs:\", df_ts['unit_sales'].isnull().sum())"
   ],
   "id": "a785d17d1212cd11",
   "outputs": [
    {
     "name": "stdout",
     "output_type": "stream",
     "text": [
      "Remaining NaNs: 0\n"
     ]
    }
   ],
   "execution_count": 66
  },
  {
   "metadata": {
    "ExecuteTime": {
     "end_time": "2025-05-09T07:38:08.704053Z",
     "start_time": "2025-05-09T07:38:08.496415Z"
    }
   },
   "cell_type": "code",
   "source": [
    "#Applying log1p\n",
    "df_ts[\"unit_sales_log\"] = np.log1p(df_ts[\"unit_sales\"])"
   ],
   "id": "d84cd54446a45c08",
   "outputs": [],
   "execution_count": 67
  },
  {
   "metadata": {
    "ExecuteTime": {
     "end_time": "2025-05-09T07:39:14.797088Z",
     "start_time": "2025-05-09T07:38:11.210487Z"
    }
   },
   "cell_type": "code",
   "source": [
    "#Plotting before and after log transformation\n",
    "fig, axs = plt.subplots(1, 2, figsize=(12, 4))\n",
    "\n",
    "sns.histplot(df_ts['unit_sales'], bins=100, ax=axs[0], kde=True)\n",
    "axs[0].set_title('Original unit_sales')\n",
    "\n",
    "sns.histplot(df_ts['unit_sales_log'], bins=100, ax=axs[1], kde=True)\n",
    "axs[1].set_title('Log1p Transformed unit_sales')\n",
    "\n",
    "plt.tight_layout()\n",
    "plt.show()"
   ],
   "id": "f17b474e987986ea",
   "outputs": [
    {
     "data": {
      "text/plain": [
       "<Figure size 1200x400 with 2 Axes>"
      ],
      "image/png": "[encoded data removed]"
     },
     "metadata": {},
     "output_type": "display_data"
    }
   ],
   "execution_count": 68
  },
  {
   "metadata": {},
   "cell_type": "markdown",
   "source": "### Feature engineering",
   "id": "92fe60bca90d3970"
  },
  {
   "metadata": {
    "ExecuteTime": {
     "end_time": "2025-05-09T07:39:27.632179Z",
     "start_time": "2025-05-09T07:39:27.019167Z"
    }
   },
   "cell_type": "code",
   "source": [
    "#Creating 'is_outlier' binary flag for later modeling\n",
    "outlier_threshold = df_ts[\"unit_sales\"].quantile(0.99)\n",
    "df_ts[\"is_outlier\"] = (df_ts[\"unit_sales\"] > outlier_threshold)"
   ],
   "id": "8b10098e33fa8bdf",
   "outputs": [],
   "execution_count": 69
  },
  {
   "metadata": {
    "ExecuteTime": {
     "end_time": "2025-05-09T07:39:34.605903Z",
     "start_time": "2025-05-09T07:39:30.869207Z"
    }
   },
   "cell_type": "code",
   "source": [
    "#Creating additional time features for EDA and modelling\n",
    "df_ts[\"year\"] = df_ts[\"date\"].dt.year\n",
    "df_ts[\"month\"] = df_ts[\"date\"].dt.month\n",
    "df_ts[\"day\"] = df_ts[\"date\"].dt.day\n",
    "df_ts[\"day_of_week\"] = df_ts[\"date\"].dt.dayofweek"
   ],
   "id": "d14a700fa20d9b91",
   "outputs": [],
   "execution_count": 70
  },
  {
   "metadata": {
    "ExecuteTime": {
     "end_time": "2025-05-09T07:39:45.775815Z",
     "start_time": "2025-05-09T07:39:38.150368Z"
    }
   },
   "cell_type": "code",
   "source": [
    "#Creating rolling average of unit sales\n",
    "df_ts[\"unit_sales_7d_avg\"] = df_ts.groupby([\"item_nbr\", \"store_nbr\"])[\"unit_sales\"].transform(lambda x: x.rolling(window=7).mean())"
   ],
   "id": "431eeba98f9ca17f",
   "outputs": [],
   "execution_count": 71
  },
  {
   "metadata": {
    "ExecuteTime": {
     "end_time": "2025-05-09T07:39:52.665742Z",
     "start_time": "2025-05-09T07:39:52.660944Z"
    }
   },
   "cell_type": "code",
   "source": [
    "#Rechecking datatypes\n",
    "df_ts.info()"
   ],
   "id": "dfc50185c71a4c34",
   "outputs": [
    {
     "name": "stdout",
     "output_type": "stream",
     "text": [
      "<class 'pandas.core.frame.DataFrame'>\n",
      "RangeIndex: 35069356 entries, 0 to 35069355\n",
      "Data columns (total 12 columns):\n",
      " #   Column             Dtype         \n",
      "---  ------             -----         \n",
      " 0   store_nbr          int64         \n",
      " 1   item_nbr           int64         \n",
      " 2   date               datetime64[ns]\n",
      " 3   unit_sales         float64       \n",
      " 4   onpromotion        float64       \n",
      " 5   unit_sales_log     float64       \n",
      " 6   is_outlier         bool          \n",
      " 7   year               int32         \n",
      " 8   month              int32         \n",
      " 9   day                int32         \n",
      " 10  day_of_week        int32         \n",
      " 11  unit_sales_7d_avg  float64       \n",
      "dtypes: bool(1), datetime64[ns](1), float64(4), int32(4), int64(2)\n",
      "memory usage: 2.4 GB\n"
     ]
    }
   ],
   "execution_count": 72
  },
  {
   "metadata": {},
   "cell_type": "markdown",
   "source": "#### Checkpoint",
   "id": "68085f2e8296d1ff"
  },
  {
   "metadata": {
    "ExecuteTime": {
     "end_time": "2025-05-09T07:40:07.838908Z",
     "start_time": "2025-05-09T07:40:01.880669Z"
    }
   },
   "cell_type": "code",
   "source": [
    "#Saving a checkpoint after feature engineering\n",
    "df_ts.to_parquet(\"/Users/dan/PycharmProjects/Masterschool/TimeSeriesRetailForecast/data/df_ts_checkpoint3.parquet\")\n",
    "print(\"Checkpoint 3 saved successfully!\")"
   ],
   "id": "54b1b2006b5bb6ce",
   "outputs": [
    {
     "name": "stdout",
     "output_type": "stream",
     "text": [
      "Checkpoint 3 saved successfully!\n"
     ]
    }
   ],
   "execution_count": 73
  },
  {
   "metadata": {
    "ExecuteTime": {
     "end_time": "2025-05-06T12:33:54.195158Z",
     "start_time": "2025-05-06T12:33:51.820061Z"
    }
   },
   "cell_type": "code",
   "source": "df_ts = pd.read_parquet(\"/Users/dan/PycharmProjects/Masterschool/TimeSeriesRetailForecast//data/df_ts_checkpoint3.parquet\")",
   "id": "74ca9fe3f69fff91",
   "outputs": [],
   "execution_count": 3
  },
  {
   "metadata": {},
   "cell_type": "markdown",
   "source": "### Joining additional df",
   "id": "7a8e4ad50d56e01a"
  },
  {
   "metadata": {},
   "cell_type": "markdown",
   "source": "Next I will join 1) holiday events 2) oil price 3) product family and store type features into the train df for further analysis",
   "id": "726bfdcddc3cddda"
  },
  {
   "metadata": {
    "ExecuteTime": {
     "end_time": "2025-05-09T07:41:29.989385Z",
     "start_time": "2025-05-09T07:41:29.974947Z"
    }
   },
   "cell_type": "code",
   "source": "df_oil.info()",
   "id": "cbe455315ca3f9bb",
   "outputs": [
    {
     "name": "stdout",
     "output_type": "stream",
     "text": [
      "<class 'pandas.core.frame.DataFrame'>\n",
      "RangeIndex: 1218 entries, 0 to 1217\n",
      "Data columns (total 2 columns):\n",
      " #   Column      Non-Null Count  Dtype         \n",
      "---  ------      --------------  -----         \n",
      " 0   date        1218 non-null   datetime64[ns]\n",
      " 1   dcoilwtico  1175 non-null   float64       \n",
      "dtypes: datetime64[ns](1), float64(1)\n",
      "memory usage: 19.2 KB\n"
     ]
    }
   ],
   "execution_count": 74
  },
  {
   "metadata": {
    "ExecuteTime": {
     "end_time": "2025-05-09T07:41:33.935551Z",
     "start_time": "2025-05-09T07:41:33.927242Z"
    }
   },
   "cell_type": "code",
   "source": "df_holidays_events.info()",
   "id": "a43fe55463260d6c",
   "outputs": [
    {
     "name": "stdout",
     "output_type": "stream",
     "text": [
      "<class 'pandas.core.frame.DataFrame'>\n",
      "RangeIndex: 350 entries, 0 to 349\n",
      "Data columns (total 6 columns):\n",
      " #   Column       Non-Null Count  Dtype         \n",
      "---  ------       --------------  -----         \n",
      " 0   date         350 non-null    datetime64[ns]\n",
      " 1   type         350 non-null    object        \n",
      " 2   locale       350 non-null    object        \n",
      " 3   locale_name  350 non-null    object        \n",
      " 4   description  350 non-null    object        \n",
      " 5   transferred  350 non-null    bool          \n",
      "dtypes: bool(1), datetime64[ns](1), object(4)\n",
      "memory usage: 14.1+ KB\n"
     ]
    }
   ],
   "execution_count": 75
  },
  {
   "metadata": {
    "ExecuteTime": {
     "end_time": "2025-05-09T07:41:37.436193Z",
     "start_time": "2025-05-09T07:41:37.428294Z"
    }
   },
   "cell_type": "code",
   "source": [
    "#Setting date as index so that joining is more efficient\n",
    "df_ts.set_index('date', inplace=True)\n",
    "df_holidays_events.set_index('date', inplace=True)\n",
    "df_oil.set_index('date', inplace=True)"
   ],
   "id": "ac540df77c43a9f0",
   "outputs": [],
   "execution_count": 76
  },
  {
   "metadata": {},
   "cell_type": "markdown",
   "source": "#### Holiday events",
   "id": "2298a8d64843e950"
  },
  {
   "metadata": {
    "ExecuteTime": {
     "end_time": "2025-05-09T07:41:41.529584Z",
     "start_time": "2025-05-09T07:41:41.519461Z"
    }
   },
   "cell_type": "code",
   "source": [
    "#Filtering relevant holiday event types\n",
    "valid_types = [\"Holiday\", \"Transfer\", \"Bridge\", \"Additional\"]\n",
    "holidays_filtered = df_holidays_events[df_holidays_events[\"type\"].isin(valid_types)].copy()"
   ],
   "id": "4df3930dd168c00",
   "outputs": [],
   "execution_count": 77
  },
  {
   "metadata": {
    "ExecuteTime": {
     "end_time": "2025-05-09T07:41:43.666112Z",
     "start_time": "2025-05-09T07:41:43.663655Z"
    }
   },
   "cell_type": "code",
   "source": [
    "#Dropping transferred holidays (we keep Transfer instead)\n",
    "holidays_filtered = holidays_filtered[~holidays_filtered[\"transferred\"]]"
   ],
   "id": "d04fbf704761765d",
   "outputs": [],
   "execution_count": 78
  },
  {
   "metadata": {
    "ExecuteTime": {
     "end_time": "2025-05-09T07:41:46.127418Z",
     "start_time": "2025-05-09T07:41:46.122794Z"
    }
   },
   "cell_type": "code",
   "source": [
    "#Creating a flag per date\n",
    "holidays_filtered[\"is_holiday\"] = 1"
   ],
   "id": "1fbdb4bd2e1fc60a",
   "outputs": [],
   "execution_count": 79
  },
  {
   "metadata": {
    "ExecuteTime": {
     "end_time": "2025-05-09T07:42:44.938853Z",
     "start_time": "2025-05-09T07:42:44.924170Z"
    }
   },
   "cell_type": "code",
   "source": [
    "#Creating a holiday flag dataframe\n",
    "holiday_flags = pd.DataFrame({\n",
    "    'date': holidays_filtered.index,\n",
    "    'is_holiday': holidays_filtered['is_holiday']\n",
    "})"
   ],
   "id": "7932d4af8802a975",
   "outputs": [],
   "execution_count": 80
  },
  {
   "metadata": {
    "ExecuteTime": {
     "end_time": "2025-05-09T07:42:48.846001Z",
     "start_time": "2025-05-09T07:42:48.840884Z"
    }
   },
   "cell_type": "code",
   "source": [
    "#Removing duplicates, keeping only one entry per date if multiple holidays fall on the same day\n",
    "holiday_flags = holiday_flags.drop_duplicates(subset=['date'])"
   ],
   "id": "cd6c1360f26692d9",
   "outputs": [],
   "execution_count": 81
  },
  {
   "metadata": {
    "ExecuteTime": {
     "end_time": "2025-05-09T07:42:50.976878Z",
     "start_time": "2025-05-09T07:42:50.972885Z"
    }
   },
   "cell_type": "code",
   "source": [
    "#Checking newly created holiday dataframe\n",
    "holiday_flags.head()"
   ],
   "id": "9836c31f60294aef",
   "outputs": [
    {
     "data": {
      "text/plain": [
       "                 date  is_holiday\n",
       "date                             \n",
       "2012-03-02 2012-03-02           1\n",
       "2012-04-01 2012-04-01           1\n",
       "2012-04-12 2012-04-12           1\n",
       "2012-04-14 2012-04-14           1\n",
       "2012-04-21 2012-04-21           1"
      ],
      "text/html": [
       "<div>\n",
       "<style scoped>\n",
       "    .dataframe tbody tr th:only-of-type {\n",
       "        vertical-align: middle;\n",
       "    }\n",
       "\n",
       "    .dataframe tbody tr th {\n",
       "        vertical-align: top;\n",
       "    }\n",
       "\n",
       "    .dataframe thead th {\n",
       "        text-align: right;\n",
       "    }\n",
       "</style>\n",
       "<table border=\"1\" class=\"dataframe\">\n",
       "  <thead>\n",
       "    <tr style=\"text-align: right;\">\n",
       "      <th></th>\n",
       "      <th>date</th>\n",
       "      <th>is_holiday</th>\n",
       "    </tr>\n",
       "    <tr>\n",
       "      <th>date</th>\n",
       "      <th></th>\n",
       "      <th></th>\n",
       "    </tr>\n",
       "  </thead>\n",
       "  <tbody>\n",
       "    <tr>\n",
       "      <th>2012-03-02</th>\n",
       "      <td>2012-03-02</td>\n",
       "      <td>1</td>\n",
       "    </tr>\n",
       "    <tr>\n",
       "      <th>2012-04-01</th>\n",
       "      <td>2012-04-01</td>\n",
       "      <td>1</td>\n",
       "    </tr>\n",
       "    <tr>\n",
       "      <th>2012-04-12</th>\n",
       "      <td>2012-04-12</td>\n",
       "      <td>1</td>\n",
       "    </tr>\n",
       "    <tr>\n",
       "      <th>2012-04-14</th>\n",
       "      <td>2012-04-14</td>\n",
       "      <td>1</td>\n",
       "    </tr>\n",
       "    <tr>\n",
       "      <th>2012-04-21</th>\n",
       "      <td>2012-04-21</td>\n",
       "      <td>1</td>\n",
       "    </tr>\n",
       "  </tbody>\n",
       "</table>\n",
       "</div>"
      ]
     },
     "execution_count": 82,
     "metadata": {},
     "output_type": "execute_result"
    }
   ],
   "execution_count": 82
  },
  {
   "metadata": {
    "ExecuteTime": {
     "end_time": "2025-05-09T07:42:57.089193Z",
     "start_time": "2025-05-09T07:42:57.084960Z"
    }
   },
   "cell_type": "code",
   "source": [
    "#Dropping date column as it is duplicate info\n",
    "holiday_flags = holiday_flags.drop(columns=['date'])"
   ],
   "id": "7a63b17441b5ad0e",
   "outputs": [],
   "execution_count": 83
  },
  {
   "metadata": {
    "ExecuteTime": {
     "end_time": "2025-05-09T07:43:08.540257Z",
     "start_time": "2025-05-09T07:43:00.811716Z"
    }
   },
   "cell_type": "code",
   "source": [
    "#Joining holiday flags with the main dataframe (df_ts)\n",
    "df_ts = df_ts.join(holiday_flags['is_holiday'], how='left')"
   ],
   "id": "af675a294993afac",
   "outputs": [],
   "execution_count": 84
  },
  {
   "metadata": {
    "ExecuteTime": {
     "end_time": "2025-05-09T07:43:16.492231Z",
     "start_time": "2025-05-09T07:43:16.328874Z"
    }
   },
   "cell_type": "code",
   "source": [
    "#Filling nulls with 0 to represent no holiday\n",
    "df_ts[\"is_holiday\"] = df_ts[\"is_holiday\"].fillna(0).astype(int)"
   ],
   "id": "32335265890c031e",
   "outputs": [],
   "execution_count": 85
  },
  {
   "metadata": {},
   "cell_type": "markdown",
   "source": "#### Oil",
   "id": "f1c8091c07e7c08b"
  },
  {
   "metadata": {
    "ExecuteTime": {
     "end_time": "2025-05-09T07:43:18.836897Z",
     "start_time": "2025-05-09T07:43:18.815098Z"
    }
   },
   "cell_type": "code",
   "source": "df_oil.head()",
   "id": "15fbda4406ba3568",
   "outputs": [
    {
     "data": {
      "text/plain": [
       "            dcoilwtico\n",
       "date                  \n",
       "2013-01-01         NaN\n",
       "2013-01-02       93.14\n",
       "2013-01-03       92.97\n",
       "2013-01-04       93.12\n",
       "2013-01-07       93.20"
      ],
      "text/html": [
       "<div>\n",
       "<style scoped>\n",
       "    .dataframe tbody tr th:only-of-type {\n",
       "        vertical-align: middle;\n",
       "    }\n",
       "\n",
       "    .dataframe tbody tr th {\n",
       "        vertical-align: top;\n",
       "    }\n",
       "\n",
       "    .dataframe thead th {\n",
       "        text-align: right;\n",
       "    }\n",
       "</style>\n",
       "<table border=\"1\" class=\"dataframe\">\n",
       "  <thead>\n",
       "    <tr style=\"text-align: right;\">\n",
       "      <th></th>\n",
       "      <th>dcoilwtico</th>\n",
       "    </tr>\n",
       "    <tr>\n",
       "      <th>date</th>\n",
       "      <th></th>\n",
       "    </tr>\n",
       "  </thead>\n",
       "  <tbody>\n",
       "    <tr>\n",
       "      <th>2013-01-01</th>\n",
       "      <td>NaN</td>\n",
       "    </tr>\n",
       "    <tr>\n",
       "      <th>2013-01-02</th>\n",
       "      <td>93.14</td>\n",
       "    </tr>\n",
       "    <tr>\n",
       "      <th>2013-01-03</th>\n",
       "      <td>92.97</td>\n",
       "    </tr>\n",
       "    <tr>\n",
       "      <th>2013-01-04</th>\n",
       "      <td>93.12</td>\n",
       "    </tr>\n",
       "    <tr>\n",
       "      <th>2013-01-07</th>\n",
       "      <td>93.20</td>\n",
       "    </tr>\n",
       "  </tbody>\n",
       "</table>\n",
       "</div>"
      ]
     },
     "execution_count": 86,
     "metadata": {},
     "output_type": "execute_result"
    }
   ],
   "execution_count": 86
  },
  {
   "metadata": {
    "ExecuteTime": {
     "end_time": "2025-05-09T07:43:25.590351Z",
     "start_time": "2025-05-09T07:43:25.445291Z"
    }
   },
   "cell_type": "code",
   "source": [
    "#Getting full daterange from df_ts before joining\n",
    "full_date_range = pd.date_range(start=df_ts.index.min(), end=df_ts.index.max(), freq='D')"
   ],
   "id": "1ceeb2da7272365",
   "outputs": [],
   "execution_count": 87
  },
  {
   "metadata": {
    "ExecuteTime": {
     "end_time": "2025-05-09T07:43:28.579451Z",
     "start_time": "2025-05-09T07:43:28.575865Z"
    }
   },
   "cell_type": "code",
   "source": [
    "#Reindexing oil to fill missing dates before joining\n",
    "df_oil = df_oil.reindex(full_date_range)\n",
    "df_oil.index.name = 'date'"
   ],
   "id": "bf96dfc7acdb39d2",
   "outputs": [],
   "execution_count": 88
  },
  {
   "metadata": {
    "ExecuteTime": {
     "end_time": "2025-05-09T07:43:32.427999Z",
     "start_time": "2025-05-09T07:43:32.423328Z"
    }
   },
   "cell_type": "code",
   "source": [
    "#Filling nulls using forward and backward fill\n",
    "df_oil['dcoilwtico'] = df_oil['dcoilwtico'].ffill().bfill()"
   ],
   "id": "c64dc5f52ee5d9f4",
   "outputs": [],
   "execution_count": 89
  },
  {
   "metadata": {
    "ExecuteTime": {
     "end_time": "2025-05-09T07:43:45.328080Z",
     "start_time": "2025-05-09T07:43:41.243167Z"
    }
   },
   "cell_type": "code",
   "source": [
    "#Joining oil prices with the main dataframe (df_ts)\n",
    "df_ts = df_ts.join(df_oil, how='left')"
   ],
   "id": "1b668c5ed9f39bf",
   "outputs": [],
   "execution_count": 90
  },
  {
   "metadata": {},
   "cell_type": "markdown",
   "source": "#### Items",
   "id": "f2d4ab465d61987f"
  },
  {
   "metadata": {
    "ExecuteTime": {
     "end_time": "2025-05-09T07:43:51.313398Z",
     "start_time": "2025-05-09T07:43:51.302921Z"
    }
   },
   "cell_type": "code",
   "source": "df_items_top.head()",
   "id": "5db958605710e1f8",
   "outputs": [
    {
     "data": {
      "text/plain": [
       "   item_nbr     family  class  perishable\n",
       "0     96995  GROCERY I   1093           0\n",
       "1     99197  GROCERY I   1067           0\n",
       "2    103501   CLEANING   3008           0\n",
       "3    103520  GROCERY I   1028           0\n",
       "5    105574  GROCERY I   1045           0"
      ],
      "text/html": [
       "<div>\n",
       "<style scoped>\n",
       "    .dataframe tbody tr th:only-of-type {\n",
       "        vertical-align: middle;\n",
       "    }\n",
       "\n",
       "    .dataframe tbody tr th {\n",
       "        vertical-align: top;\n",
       "    }\n",
       "\n",
       "    .dataframe thead th {\n",
       "        text-align: right;\n",
       "    }\n",
       "</style>\n",
       "<table border=\"1\" class=\"dataframe\">\n",
       "  <thead>\n",
       "    <tr style=\"text-align: right;\">\n",
       "      <th></th>\n",
       "      <th>item_nbr</th>\n",
       "      <th>family</th>\n",
       "      <th>class</th>\n",
       "      <th>perishable</th>\n",
       "    </tr>\n",
       "  </thead>\n",
       "  <tbody>\n",
       "    <tr>\n",
       "      <th>0</th>\n",
       "      <td>96995</td>\n",
       "      <td>GROCERY I</td>\n",
       "      <td>1093</td>\n",
       "      <td>0</td>\n",
       "    </tr>\n",
       "    <tr>\n",
       "      <th>1</th>\n",
       "      <td>99197</td>\n",
       "      <td>GROCERY I</td>\n",
       "      <td>1067</td>\n",
       "      <td>0</td>\n",
       "    </tr>\n",
       "    <tr>\n",
       "      <th>2</th>\n",
       "      <td>103501</td>\n",
       "      <td>CLEANING</td>\n",
       "      <td>3008</td>\n",
       "      <td>0</td>\n",
       "    </tr>\n",
       "    <tr>\n",
       "      <th>3</th>\n",
       "      <td>103520</td>\n",
       "      <td>GROCERY I</td>\n",
       "      <td>1028</td>\n",
       "      <td>0</td>\n",
       "    </tr>\n",
       "    <tr>\n",
       "      <th>5</th>\n",
       "      <td>105574</td>\n",
       "      <td>GROCERY I</td>\n",
       "      <td>1045</td>\n",
       "      <td>0</td>\n",
       "    </tr>\n",
       "  </tbody>\n",
       "</table>\n",
       "</div>"
      ]
     },
     "execution_count": 91,
     "metadata": {},
     "output_type": "execute_result"
    }
   ],
   "execution_count": 91
  },
  {
   "metadata": {
    "ExecuteTime": {
     "end_time": "2025-05-09T07:43:58.515256Z",
     "start_time": "2025-05-09T07:43:58.509905Z"
    }
   },
   "cell_type": "code",
   "source": [
    "#Keeping only relevant columns before joining\n",
    "df_items_top = df_items_top[[\"item_nbr\", \"family\"]]"
   ],
   "id": "b65d3fba17c6e247",
   "outputs": [],
   "execution_count": 92
  },
  {
   "metadata": {
    "ExecuteTime": {
     "end_time": "2025-05-09T07:44:00.557146Z",
     "start_time": "2025-05-09T07:44:00.553195Z"
    }
   },
   "cell_type": "code",
   "source": [
    "#Making sure there are no duplicate item_nbrs (to avoid unexpected row expansion)\n",
    "assert df_items_top[\"item_nbr\"].is_unique"
   ],
   "id": "b5437440f6090c64",
   "outputs": [],
   "execution_count": 93
  },
  {
   "metadata": {
    "ExecuteTime": {
     "end_time": "2025-05-09T07:44:08.101017Z",
     "start_time": "2025-05-09T07:44:03.296617Z"
    }
   },
   "cell_type": "code",
   "source": [
    "#Joining top items to df_ts\n",
    "df_ts = df_ts.join(df_items_top.set_index(\"item_nbr\"), on=\"item_nbr\")"
   ],
   "id": "7bd05d8051cbf8d2",
   "outputs": [],
   "execution_count": 94
  },
  {
   "metadata": {
    "ExecuteTime": {
     "end_time": "2025-05-09T07:44:11.156960Z",
     "start_time": "2025-05-09T07:44:11.147538Z"
    }
   },
   "cell_type": "code",
   "source": [
    "#Checking df_ts dataframe before finalising for modeling\n",
    "df_ts.head()"
   ],
   "id": "fe9bfa2671188dd3",
   "outputs": [
    {
     "data": {
      "text/plain": [
       "            store_nbr  item_nbr  unit_sales  onpromotion  unit_sales_log  \\\n",
       "date                                                                       \n",
       "2013-01-02         24    105574       12.00         0.00            2.56   \n",
       "2013-01-03         24    105574        1.00         0.00            0.69   \n",
       "2013-01-04         24    105574        3.00         0.00            1.39   \n",
       "2013-01-05         24    105574        4.00         0.00            1.61   \n",
       "2013-01-06         24    105574        7.00         0.00            2.08   \n",
       "\n",
       "            is_outlier  year  month  day  day_of_week  unit_sales_7d_avg  \\\n",
       "date                                                                       \n",
       "2013-01-02       False  2013      1    2            2                NaN   \n",
       "2013-01-03       False  2013      1    3            3                NaN   \n",
       "2013-01-04       False  2013      1    4            4                NaN   \n",
       "2013-01-05       False  2013      1    5            5                NaN   \n",
       "2013-01-06       False  2013      1    6            6                NaN   \n",
       "\n",
       "            is_holiday  dcoilwtico     family  \n",
       "date                                           \n",
       "2013-01-02           0       93.14  GROCERY I  \n",
       "2013-01-03           0       92.97  GROCERY I  \n",
       "2013-01-04           0       93.12  GROCERY I  \n",
       "2013-01-05           0       93.12  GROCERY I  \n",
       "2013-01-06           0       93.12  GROCERY I  "
      ],
      "text/html": [
       "<div>\n",
       "<style scoped>\n",
       "    .dataframe tbody tr th:only-of-type {\n",
       "        vertical-align: middle;\n",
       "    }\n",
       "\n",
       "    .dataframe tbody tr th {\n",
       "        vertical-align: top;\n",
       "    }\n",
       "\n",
       "    .dataframe thead th {\n",
       "        text-align: right;\n",
       "    }\n",
       "</style>\n",
       "<table border=\"1\" class=\"dataframe\">\n",
       "  <thead>\n",
       "    <tr style=\"text-align: right;\">\n",
       "      <th></th>\n",
       "      <th>store_nbr</th>\n",
       "      <th>item_nbr</th>\n",
       "      <th>unit_sales</th>\n",
       "      <th>onpromotion</th>\n",
       "      <th>unit_sales_log</th>\n",
       "      <th>is_outlier</th>\n",
       "      <th>year</th>\n",
       "      <th>month</th>\n",
       "      <th>day</th>\n",
       "      <th>day_of_week</th>\n",
       "      <th>unit_sales_7d_avg</th>\n",
       "      <th>is_holiday</th>\n",
       "      <th>dcoilwtico</th>\n",
       "      <th>family</th>\n",
       "    </tr>\n",
       "    <tr>\n",
       "      <th>date</th>\n",
       "      <th></th>\n",
       "      <th></th>\n",
       "      <th></th>\n",
       "      <th></th>\n",
       "      <th></th>\n",
       "      <th></th>\n",
       "      <th></th>\n",
       "      <th></th>\n",
       "      <th></th>\n",
       "      <th></th>\n",
       "      <th></th>\n",
       "      <th></th>\n",
       "      <th></th>\n",
       "      <th></th>\n",
       "    </tr>\n",
       "  </thead>\n",
       "  <tbody>\n",
       "    <tr>\n",
       "      <th>2013-01-02</th>\n",
       "      <td>24</td>\n",
       "      <td>105574</td>\n",
       "      <td>12.00</td>\n",
       "      <td>0.00</td>\n",
       "      <td>2.56</td>\n",
       "      <td>False</td>\n",
       "      <td>2013</td>\n",
       "      <td>1</td>\n",
       "      <td>2</td>\n",
       "      <td>2</td>\n",
       "      <td>NaN</td>\n",
       "      <td>0</td>\n",
       "      <td>93.14</td>\n",
       "      <td>GROCERY I</td>\n",
       "    </tr>\n",
       "    <tr>\n",
       "      <th>2013-01-03</th>\n",
       "      <td>24</td>\n",
       "      <td>105574</td>\n",
       "      <td>1.00</td>\n",
       "      <td>0.00</td>\n",
       "      <td>0.69</td>\n",
       "      <td>False</td>\n",
       "      <td>2013</td>\n",
       "      <td>1</td>\n",
       "      <td>3</td>\n",
       "      <td>3</td>\n",
       "      <td>NaN</td>\n",
       "      <td>0</td>\n",
       "      <td>92.97</td>\n",
       "      <td>GROCERY I</td>\n",
       "    </tr>\n",
       "    <tr>\n",
       "      <th>2013-01-04</th>\n",
       "      <td>24</td>\n",
       "      <td>105574</td>\n",
       "      <td>3.00</td>\n",
       "      <td>0.00</td>\n",
       "      <td>1.39</td>\n",
       "      <td>False</td>\n",
       "      <td>2013</td>\n",
       "      <td>1</td>\n",
       "      <td>4</td>\n",
       "      <td>4</td>\n",
       "      <td>NaN</td>\n",
       "      <td>0</td>\n",
       "      <td>93.12</td>\n",
       "      <td>GROCERY I</td>\n",
       "    </tr>\n",
       "    <tr>\n",
       "      <th>2013-01-05</th>\n",
       "      <td>24</td>\n",
       "      <td>105574</td>\n",
       "      <td>4.00</td>\n",
       "      <td>0.00</td>\n",
       "      <td>1.61</td>\n",
       "      <td>False</td>\n",
       "      <td>2013</td>\n",
       "      <td>1</td>\n",
       "      <td>5</td>\n",
       "      <td>5</td>\n",
       "      <td>NaN</td>\n",
       "      <td>0</td>\n",
       "      <td>93.12</td>\n",
       "      <td>GROCERY I</td>\n",
       "    </tr>\n",
       "    <tr>\n",
       "      <th>2013-01-06</th>\n",
       "      <td>24</td>\n",
       "      <td>105574</td>\n",
       "      <td>7.00</td>\n",
       "      <td>0.00</td>\n",
       "      <td>2.08</td>\n",
       "      <td>False</td>\n",
       "      <td>2013</td>\n",
       "      <td>1</td>\n",
       "      <td>6</td>\n",
       "      <td>6</td>\n",
       "      <td>NaN</td>\n",
       "      <td>0</td>\n",
       "      <td>93.12</td>\n",
       "      <td>GROCERY I</td>\n",
       "    </tr>\n",
       "  </tbody>\n",
       "</table>\n",
       "</div>"
      ]
     },
     "execution_count": 95,
     "metadata": {},
     "output_type": "execute_result"
    }
   ],
   "execution_count": 95
  },
  {
   "metadata": {
    "ExecuteTime": {
     "end_time": "2025-05-09T07:44:27.590191Z",
     "start_time": "2025-05-09T07:44:20.153671Z"
    }
   },
   "cell_type": "code",
   "source": [
    "#Checking mid-points and variance for discrepancies\n",
    "df_ts.describe()"
   ],
   "id": "12b78210840c78b5",
   "outputs": [
    {
     "data": {
      "text/plain": [
       "          store_nbr      item_nbr    unit_sales   onpromotion  unit_sales_log  \\\n",
       "count 35,069,356.00 35,069,356.00 35,069,356.00 14,745,768.00   35,069,356.00   \n",
       "mean          32.03  1,154,136.95          5.57          0.05            1.43   \n",
       "std            7.40    618,370.35         24.40          0.21            0.76   \n",
       "min           24.00     96,995.00          0.24          0.00            0.21   \n",
       "25%           27.00    627,263.00          1.14          0.00            0.76   \n",
       "50%           30.00  1,136,208.50          2.34          0.00            1.21   \n",
       "75%           35.00  1,909,409.00          5.00          0.00            1.79   \n",
       "max           51.00  2,127,114.00     17,146.00          1.00            9.75   \n",
       "\n",
       "               year         month           day   day_of_week  \\\n",
       "count 35,069,356.00 35,069,356.00 35,069,356.00 35,069,356.00   \n",
       "mean       2,014.84          6.22         15.66          3.00   \n",
       "std            1.34          3.39          8.79          2.00   \n",
       "min        2,013.00          1.00          1.00          0.00   \n",
       "25%        2,014.00          3.00          8.00          1.00   \n",
       "50%        2,015.00          6.00         16.00          3.00   \n",
       "75%        2,016.00          9.00         23.00          5.00   \n",
       "max        2,017.00         12.00         31.00          6.00   \n",
       "\n",
       "       unit_sales_7d_avg    is_holiday    dcoilwtico  \n",
       "count      34,944,628.00 35,069,356.00 35,069,356.00  \n",
       "mean                5.57          0.11         67.89  \n",
       "std                22.72          0.32         25.67  \n",
       "min                 0.33          0.00         26.19  \n",
       "25%                 1.57          0.00         46.37  \n",
       "50%                 2.70          0.00         53.41  \n",
       "75%                 5.29          0.00         95.72  \n",
       "max            10,049.34          1.00        110.62  "
      ],
      "text/html": [
       "<div>\n",
       "<style scoped>\n",
       "    .dataframe tbody tr th:only-of-type {\n",
       "        vertical-align: middle;\n",
       "    }\n",
       "\n",
       "    .dataframe tbody tr th {\n",
       "        vertical-align: top;\n",
       "    }\n",
       "\n",
       "    .dataframe thead th {\n",
       "        text-align: right;\n",
       "    }\n",
       "</style>\n",
       "<table border=\"1\" class=\"dataframe\">\n",
       "  <thead>\n",
       "    <tr style=\"text-align: right;\">\n",
       "      <th></th>\n",
       "      <th>store_nbr</th>\n",
       "      <th>item_nbr</th>\n",
       "      <th>unit_sales</th>\n",
       "      <th>onpromotion</th>\n",
       "      <th>unit_sales_log</th>\n",
       "      <th>year</th>\n",
       "      <th>month</th>\n",
       "      <th>day</th>\n",
       "      <th>day_of_week</th>\n",
       "      <th>unit_sales_7d_avg</th>\n",
       "      <th>is_holiday</th>\n",
       "      <th>dcoilwtico</th>\n",
       "    </tr>\n",
       "  </thead>\n",
       "  <tbody>\n",
       "    <tr>\n",
       "      <th>count</th>\n",
       "      <td>35,069,356.00</td>\n",
       "      <td>35,069,356.00</td>\n",
       "      <td>35,069,356.00</td>\n",
       "      <td>14,745,768.00</td>\n",
       "      <td>35,069,356.00</td>\n",
       "      <td>35,069,356.00</td>\n",
       "      <td>35,069,356.00</td>\n",
       "      <td>35,069,356.00</td>\n",
       "      <td>35,069,356.00</td>\n",
       "      <td>34,944,628.00</td>\n",
       "      <td>35,069,356.00</td>\n",
       "      <td>35,069,356.00</td>\n",
       "    </tr>\n",
       "    <tr>\n",
       "      <th>mean</th>\n",
       "      <td>32.03</td>\n",
       "      <td>1,154,136.95</td>\n",
       "      <td>5.57</td>\n",
       "      <td>0.05</td>\n",
       "      <td>1.43</td>\n",
       "      <td>2,014.84</td>\n",
       "      <td>6.22</td>\n",
       "      <td>15.66</td>\n",
       "      <td>3.00</td>\n",
       "      <td>5.57</td>\n",
       "      <td>0.11</td>\n",
       "      <td>67.89</td>\n",
       "    </tr>\n",
       "    <tr>\n",
       "      <th>std</th>\n",
       "      <td>7.40</td>\n",
       "      <td>618,370.35</td>\n",
       "      <td>24.40</td>\n",
       "      <td>0.21</td>\n",
       "      <td>0.76</td>\n",
       "      <td>1.34</td>\n",
       "      <td>3.39</td>\n",
       "      <td>8.79</td>\n",
       "      <td>2.00</td>\n",
       "      <td>22.72</td>\n",
       "      <td>0.32</td>\n",
       "      <td>25.67</td>\n",
       "    </tr>\n",
       "    <tr>\n",
       "      <th>min</th>\n",
       "      <td>24.00</td>\n",
       "      <td>96,995.00</td>\n",
       "      <td>0.24</td>\n",
       "      <td>0.00</td>\n",
       "      <td>0.21</td>\n",
       "      <td>2,013.00</td>\n",
       "      <td>1.00</td>\n",
       "      <td>1.00</td>\n",
       "      <td>0.00</td>\n",
       "      <td>0.33</td>\n",
       "      <td>0.00</td>\n",
       "      <td>26.19</td>\n",
       "    </tr>\n",
       "    <tr>\n",
       "      <th>25%</th>\n",
       "      <td>27.00</td>\n",
       "      <td>627,263.00</td>\n",
       "      <td>1.14</td>\n",
       "      <td>0.00</td>\n",
       "      <td>0.76</td>\n",
       "      <td>2,014.00</td>\n",
       "      <td>3.00</td>\n",
       "      <td>8.00</td>\n",
       "      <td>1.00</td>\n",
       "      <td>1.57</td>\n",
       "      <td>0.00</td>\n",
       "      <td>46.37</td>\n",
       "    </tr>\n",
       "    <tr>\n",
       "      <th>50%</th>\n",
       "      <td>30.00</td>\n",
       "      <td>1,136,208.50</td>\n",
       "      <td>2.34</td>\n",
       "      <td>0.00</td>\n",
       "      <td>1.21</td>\n",
       "      <td>2,015.00</td>\n",
       "      <td>6.00</td>\n",
       "      <td>16.00</td>\n",
       "      <td>3.00</td>\n",
       "      <td>2.70</td>\n",
       "      <td>0.00</td>\n",
       "      <td>53.41</td>\n",
       "    </tr>\n",
       "    <tr>\n",
       "      <th>75%</th>\n",
       "      <td>35.00</td>\n",
       "      <td>1,909,409.00</td>\n",
       "      <td>5.00</td>\n",
       "      <td>0.00</td>\n",
       "      <td>1.79</td>\n",
       "      <td>2,016.00</td>\n",
       "      <td>9.00</td>\n",
       "      <td>23.00</td>\n",
       "      <td>5.00</td>\n",
       "      <td>5.29</td>\n",
       "      <td>0.00</td>\n",
       "      <td>95.72</td>\n",
       "    </tr>\n",
       "    <tr>\n",
       "      <th>max</th>\n",
       "      <td>51.00</td>\n",
       "      <td>2,127,114.00</td>\n",
       "      <td>17,146.00</td>\n",
       "      <td>1.00</td>\n",
       "      <td>9.75</td>\n",
       "      <td>2,017.00</td>\n",
       "      <td>12.00</td>\n",
       "      <td>31.00</td>\n",
       "      <td>6.00</td>\n",
       "      <td>10,049.34</td>\n",
       "      <td>1.00</td>\n",
       "      <td>110.62</td>\n",
       "    </tr>\n",
       "  </tbody>\n",
       "</table>\n",
       "</div>"
      ]
     },
     "execution_count": 96,
     "metadata": {},
     "output_type": "execute_result"
    }
   ],
   "execution_count": 96
  },
  {
   "metadata": {},
   "cell_type": "markdown",
   "source": "#### Checkpoint",
   "id": "6d67f5bc0f300ba0"
  },
  {
   "metadata": {
    "ExecuteTime": {
     "end_time": "2025-05-09T07:46:41.585516Z",
     "start_time": "2025-05-09T07:44:42.587060Z"
    }
   },
   "cell_type": "code",
   "source": [
    "#Saving CSV after completed data prep\n",
    "df_ts.to_csv(\"/Users/dan/PycharmProjects/Masterschool/TimeSeriesRetailForecast/data/prepared_ts_data.csv\")"
   ],
   "id": "93cb7298b67c8d90",
   "outputs": [],
   "execution_count": 97
  },
  {
   "metadata": {
    "ExecuteTime": {
     "end_time": "2025-05-06T11:54:48.397277Z",
     "start_time": "2025-05-06T11:54:21.091802Z"
    }
   },
   "cell_type": "code",
   "source": "df_ts = pd.read_csv(\"/Users/dan/PycharmProjects/Masterschool/TimeSeriesRetailForecast/data/prepared_ts_data.csv\", parse_dates=[\"date\"], index_col=\"date\")",
   "id": "db5efb681f762e27",
   "outputs": [],
   "execution_count": 7
  },
  {
   "metadata": {
    "tags": [
     "TS EDA"
    ]
   },
   "cell_type": "markdown",
   "source": "### Time Series EDA",
   "id": "9b96a8b26fed2013"
  },
  {
   "metadata": {
    "ExecuteTime": {
     "end_time": "2025-05-09T07:47:09.790349Z",
     "start_time": "2025-05-09T07:47:09.521753Z"
    }
   },
   "cell_type": "code",
   "source": [
    "#Double check on data types\n",
    "df_ts.info()"
   ],
   "id": "445e249b65b8c086",
   "outputs": [
    {
     "name": "stdout",
     "output_type": "stream",
     "text": [
      "<class 'pandas.core.frame.DataFrame'>\n",
      "DatetimeIndex: 35069356 entries, 2013-01-02 to 2017-08-15\n",
      "Data columns (total 14 columns):\n",
      " #   Column             Dtype  \n",
      "---  ------             -----  \n",
      " 0   store_nbr          int64  \n",
      " 1   item_nbr           int64  \n",
      " 2   unit_sales         float64\n",
      " 3   onpromotion        float64\n",
      " 4   unit_sales_log     float64\n",
      " 5   is_outlier         bool   \n",
      " 6   year               int32  \n",
      " 7   month              int32  \n",
      " 8   day                int32  \n",
      " 9   day_of_week        int32  \n",
      " 10  unit_sales_7d_avg  float64\n",
      " 11  is_holiday         int64  \n",
      " 12  dcoilwtico         float64\n",
      " 13  family             object \n",
      "dtypes: bool(1), float64(5), int32(4), int64(3), object(1)\n",
      "memory usage: 3.2+ GB\n"
     ]
    }
   ],
   "execution_count": 98
  },
  {
   "metadata": {
    "ExecuteTime": {
     "end_time": "2025-05-09T07:47:23.651467Z",
     "start_time": "2025-05-09T07:47:23.605414Z"
    }
   },
   "cell_type": "code",
   "source": [
    "#Checking a portion of the dataframe\n",
    "df_ts.tail()"
   ],
   "id": "fa10af58efe2787b",
   "outputs": [
    {
     "data": {
      "text/plain": [
       "            store_nbr  item_nbr  unit_sales  onpromotion  unit_sales_log  \\\n",
       "date                                                                       \n",
       "2017-08-11         51   2123791        1.00          NaN            0.69   \n",
       "2017-08-12         51   2123791        1.00          NaN            0.69   \n",
       "2017-08-13         51   2123791        1.00          NaN            0.69   \n",
       "2017-08-14         51   2123791        1.00          NaN            0.69   \n",
       "2017-08-15         51   2123791        1.00         0.00            0.69   \n",
       "\n",
       "            is_outlier  year  month  day  day_of_week  unit_sales_7d_avg  \\\n",
       "date                                                                       \n",
       "2017-08-11       False  2017      8   11            4               1.00   \n",
       "2017-08-12       False  2017      8   12            5               1.00   \n",
       "2017-08-13       False  2017      8   13            6               1.00   \n",
       "2017-08-14       False  2017      8   14            0               1.00   \n",
       "2017-08-15       False  2017      8   15            1               1.00   \n",
       "\n",
       "            is_holiday  dcoilwtico     family  \n",
       "date                                           \n",
       "2017-08-11           1       48.81  GROCERY I  \n",
       "2017-08-12           0       48.81  GROCERY I  \n",
       "2017-08-13           0       48.81  GROCERY I  \n",
       "2017-08-14           0       47.59  GROCERY I  \n",
       "2017-08-15           1       47.57  GROCERY I  "
      ],
      "text/html": [
       "<div>\n",
       "<style scoped>\n",
       "    .dataframe tbody tr th:only-of-type {\n",
       "        vertical-align: middle;\n",
       "    }\n",
       "\n",
       "    .dataframe tbody tr th {\n",
       "        vertical-align: top;\n",
       "    }\n",
       "\n",
       "    .dataframe thead th {\n",
       "        text-align: right;\n",
       "    }\n",
       "</style>\n",
       "<table border=\"1\" class=\"dataframe\">\n",
       "  <thead>\n",
       "    <tr style=\"text-align: right;\">\n",
       "      <th></th>\n",
       "      <th>store_nbr</th>\n",
       "      <th>item_nbr</th>\n",
       "      <th>unit_sales</th>\n",
       "      <th>onpromotion</th>\n",
       "      <th>unit_sales_log</th>\n",
       "      <th>is_outlier</th>\n",
       "      <th>year</th>\n",
       "      <th>month</th>\n",
       "      <th>day</th>\n",
       "      <th>day_of_week</th>\n",
       "      <th>unit_sales_7d_avg</th>\n",
       "      <th>is_holiday</th>\n",
       "      <th>dcoilwtico</th>\n",
       "      <th>family</th>\n",
       "    </tr>\n",
       "    <tr>\n",
       "      <th>date</th>\n",
       "      <th></th>\n",
       "      <th></th>\n",
       "      <th></th>\n",
       "      <th></th>\n",
       "      <th></th>\n",
       "      <th></th>\n",
       "      <th></th>\n",
       "      <th></th>\n",
       "      <th></th>\n",
       "      <th></th>\n",
       "      <th></th>\n",
       "      <th></th>\n",
       "      <th></th>\n",
       "      <th></th>\n",
       "    </tr>\n",
       "  </thead>\n",
       "  <tbody>\n",
       "    <tr>\n",
       "      <th>2017-08-11</th>\n",
       "      <td>51</td>\n",
       "      <td>2123791</td>\n",
       "      <td>1.00</td>\n",
       "      <td>NaN</td>\n",
       "      <td>0.69</td>\n",
       "      <td>False</td>\n",
       "      <td>2017</td>\n",
       "      <td>8</td>\n",
       "      <td>11</td>\n",
       "      <td>4</td>\n",
       "      <td>1.00</td>\n",
       "      <td>1</td>\n",
       "      <td>48.81</td>\n",
       "      <td>GROCERY I</td>\n",
       "    </tr>\n",
       "    <tr>\n",
       "      <th>2017-08-12</th>\n",
       "      <td>51</td>\n",
       "      <td>2123791</td>\n",
       "      <td>1.00</td>\n",
       "      <td>NaN</td>\n",
       "      <td>0.69</td>\n",
       "      <td>False</td>\n",
       "      <td>2017</td>\n",
       "      <td>8</td>\n",
       "      <td>12</td>\n",
       "      <td>5</td>\n",
       "      <td>1.00</td>\n",
       "      <td>0</td>\n",
       "      <td>48.81</td>\n",
       "      <td>GROCERY I</td>\n",
       "    </tr>\n",
       "    <tr>\n",
       "      <th>2017-08-13</th>\n",
       "      <td>51</td>\n",
       "      <td>2123791</td>\n",
       "      <td>1.00</td>\n",
       "      <td>NaN</td>\n",
       "      <td>0.69</td>\n",
       "      <td>False</td>\n",
       "      <td>2017</td>\n",
       "      <td>8</td>\n",
       "      <td>13</td>\n",
       "      <td>6</td>\n",
       "      <td>1.00</td>\n",
       "      <td>0</td>\n",
       "      <td>48.81</td>\n",
       "      <td>GROCERY I</td>\n",
       "    </tr>\n",
       "    <tr>\n",
       "      <th>2017-08-14</th>\n",
       "      <td>51</td>\n",
       "      <td>2123791</td>\n",
       "      <td>1.00</td>\n",
       "      <td>NaN</td>\n",
       "      <td>0.69</td>\n",
       "      <td>False</td>\n",
       "      <td>2017</td>\n",
       "      <td>8</td>\n",
       "      <td>14</td>\n",
       "      <td>0</td>\n",
       "      <td>1.00</td>\n",
       "      <td>0</td>\n",
       "      <td>47.59</td>\n",
       "      <td>GROCERY I</td>\n",
       "    </tr>\n",
       "    <tr>\n",
       "      <th>2017-08-15</th>\n",
       "      <td>51</td>\n",
       "      <td>2123791</td>\n",
       "      <td>1.00</td>\n",
       "      <td>0.00</td>\n",
       "      <td>0.69</td>\n",
       "      <td>False</td>\n",
       "      <td>2017</td>\n",
       "      <td>8</td>\n",
       "      <td>15</td>\n",
       "      <td>1</td>\n",
       "      <td>1.00</td>\n",
       "      <td>1</td>\n",
       "      <td>47.57</td>\n",
       "      <td>GROCERY I</td>\n",
       "    </tr>\n",
       "  </tbody>\n",
       "</table>\n",
       "</div>"
      ]
     },
     "execution_count": 99,
     "metadata": {},
     "output_type": "execute_result"
    }
   ],
   "execution_count": 99
  },
  {
   "metadata": {
    "ExecuteTime": {
     "end_time": "2025-05-09T07:47:39.548382Z",
     "start_time": "2025-05-09T07:47:38.601114Z"
    }
   },
   "cell_type": "code",
   "source": [
    "#Aggregating by sales\n",
    "df_daily_sales = df_ts.groupby(df_ts.index).agg({\"unit_sales\": \"sum\"})\n",
    "\n",
    "#Plotting unit_sales time-series\n",
    "plt.figure(figsize=(12,6))\n",
    "plt.plot(df_daily_sales.index, df_daily_sales[\"unit_sales\"])\n",
    "plt.title('Total Unit Sales Over Time in Guayas state', fontsize=14, fontweight='bold')\n",
    "plt.xlabel('Date', fontsize=12)\n",
    "plt.ylabel('Unit Sales', fontsize=12)\n",
    "plt.xticks(fontsize=10, rotation=45)\n",
    "plt.yticks(fontsize=10)\n",
    "plt.show()"
   ],
   "id": "39651e7662e1a7e2",
   "outputs": [
    {
     "data": {
      "text/plain": [
       "<Figure size 1200x600 with 1 Axes>"
      ],
      "image/png": "[encoded data removed]"
     },
     "metadata": {},
     "output_type": "display_data"
    }
   ],
   "execution_count": 100
  },
  {
   "metadata": {
    "ExecuteTime": {
     "end_time": "2025-05-09T07:47:46.829400Z",
     "start_time": "2025-05-09T07:47:45.871119Z"
    }
   },
   "cell_type": "code",
   "source": [
    "#Aggregating by sales\n",
    "df_rolling_sales = df_ts.groupby(df_ts.index).agg({\"unit_sales_7d_avg\": \"sum\"})\n",
    "\n",
    "#Plotting the 7 days rolling average time-series\n",
    "plt.figure(figsize=(12,6))\n",
    "plt.plot(df_rolling_sales.index, df_rolling_sales[\"unit_sales_7d_avg\"])\n",
    "plt.title('Rolling Average Unit Sales in Guayas state', fontsize=14, fontweight='bold')\n",
    "plt.xlabel('Date', fontsize=12)\n",
    "plt.ylabel('7 Day Avg. Sales', fontsize=12)\n",
    "plt.xticks(fontsize=10, rotation=45)\n",
    "plt.yticks(fontsize=10)\n",
    "plt.show()"
   ],
   "id": "7f749d04d5f84a9b",
   "outputs": [
    {
     "data": {
      "text/plain": [
       "<Figure size 1200x600 with 1 Axes>"
      ],
      "image/png": "[encoded data removed]"
     },
     "metadata": {},
     "output_type": "display_data"
    }
   ],
   "execution_count": 101
  },
  {
   "metadata": {
    "ExecuteTime": {
     "end_time": "2025-05-09T07:47:56.243284Z",
     "start_time": "2025-05-09T07:47:54.153581Z"
    }
   },
   "cell_type": "code",
   "source": [
    "#Aggregating sales by year and month\n",
    "sales_by_month = df_ts.groupby(['year', 'month'])['unit_sales'].sum().unstack()\n",
    "\n",
    "#Plotting heatmap of sales by year and month\n",
    "plt.figure(figsize=(8, 5))\n",
    "sns.heatmap(\n",
    "    sales_by_month,\n",
    "    cmap='coolwarm',\n",
    "    linewidths=0.5,\n",
    "    linecolor='white',\n",
    "    cbar_kws={'label': 'Sales Volume'}\n",
    ")\n",
    "\n",
    "#Customizing title and axes labels\n",
    "plt.title('Monthly Sales Trends Over Years', fontsize=14, fontweight='bold')\n",
    "plt.xlabel('Month', fontsize=12, labelpad=10)\n",
    "plt.ylabel('Year', fontsize=12, labelpad=10)\n",
    "plt.xticks(fontsize=10, rotation=45)\n",
    "plt.yticks(fontsize=10)\n",
    "\n",
    "plt.tight_layout()\n",
    "plt.show()"
   ],
   "id": "9835881a95b10167",
   "outputs": [
    {
     "data": {
      "text/plain": [
       "<Figure size 800x500 with 2 Axes>"
      ],
      "image/png": "[encoded data removed]"
     },
     "metadata": {},
     "output_type": "display_data"
    }
   ],
   "execution_count": 102
  },
  {
   "metadata": {
    "ExecuteTime": {
     "end_time": "2025-05-09T07:48:07.981664Z",
     "start_time": "2025-05-09T07:48:06.921843Z"
    }
   },
   "cell_type": "code",
   "source": [
    "#Aggregatting sale by day of week\n",
    "sales_by_dow = df_ts.groupby(\"day_of_week\")[\"unit_sales\"].mean().reset_index()\n",
    "\n",
    "#Plotting barplot for sales by day of week\n",
    "plt.figure(figsize=(8, 5))\n",
    "sns.barplot(sales_by_dow, x=\"day_of_week\", y=\"unit_sales\")\n",
    "plt.title('Sales by Day of Week', fontsize=14, fontweight='bold')\n",
    "plt.xlabel('Day', fontsize=12, labelpad=10)\n",
    "plt.ylabel('Average Sales', fontsize=12, labelpad=10)\n",
    "plt.xticks(fontsize=10, rotation=45)\n",
    "plt.yticks(fontsize=10)\n",
    "\n",
    "plt.tight_layout()\n",
    "plt.show()"
   ],
   "id": "2af0871ac271fe71",
   "outputs": [
    {
     "data": {
      "text/plain": [
       "<Figure size 800x500 with 1 Axes>"
      ],
      "image/png": "[encoded data removed]"
     },
     "metadata": {},
     "output_type": "display_data"
    }
   ],
   "execution_count": 103
  },
  {
   "metadata": {
    "ExecuteTime": {
     "end_time": "2025-05-09T07:48:19.850722Z",
     "start_time": "2025-05-09T07:48:19.393958Z"
    }
   },
   "cell_type": "code",
   "source": [
    "#Couting holiday occurrences\n",
    "df_ts[\"is_holiday\"].value_counts()"
   ],
   "id": "cf5a77ebdd7265a9",
   "outputs": [
    {
     "data": {
      "text/plain": [
       "is_holiday\n",
       "0    31057272\n",
       "1     4012084\n",
       "Name: count, dtype: int64"
      ]
     },
     "execution_count": 104,
     "metadata": {},
     "output_type": "execute_result"
    }
   ],
   "execution_count": 104
  },
  {
   "metadata": {
    "ExecuteTime": {
     "end_time": "2025-05-09T07:49:09.484953Z",
     "start_time": "2025-05-09T07:48:53.752977Z"
    }
   },
   "cell_type": "code",
   "source": [
    "#Exploring correlations\n",
    "values_to_compare = [\"unit_sales\", \"unit_sales_7d_avg\", \"unit_sales_log\", \"onpromotion\", \"is_outlier\", \"year\", \"month\", \"day\", \"day_of_week\", \"is_holiday\", \"dcoilwtico\"]\n",
    "df_subset = df_ts[values_to_compare]\n",
    "df_ts_corr = df_subset.corr()\n",
    "df_ts_corr"
   ],
   "id": "64b17a6ad5e5c8b3",
   "outputs": [
    {
     "data": {
      "text/plain": [
       "                   unit_sales  unit_sales_7d_avg  unit_sales_log  onpromotion  \\\n",
       "unit_sales               1.00               0.92            0.40         0.06   \n",
       "unit_sales_7d_avg        0.92               1.00            0.37         0.07   \n",
       "unit_sales_log           0.40               0.37            1.00         0.09   \n",
       "onpromotion              0.06               0.07            0.09         1.00   \n",
       "is_outlier               0.41               0.37            0.39         0.05   \n",
       "year                    -0.01              -0.01           -0.04         0.17   \n",
       "month                    0.00               0.00            0.01         0.03   \n",
       "day                     -0.00              -0.00           -0.01         0.00   \n",
       "day_of_week              0.01               0.00            0.03        -0.00   \n",
       "is_holiday               0.00               0.00            0.01         0.01   \n",
       "dcoilwtico               0.00               0.00            0.03        -0.12   \n",
       "\n",
       "                   is_outlier  year  month   day  day_of_week  is_holiday  \\\n",
       "unit_sales               0.41 -0.01   0.00 -0.00         0.01        0.00   \n",
       "unit_sales_7d_avg        0.37 -0.01   0.00 -0.00         0.00        0.00   \n",
       "unit_sales_log           0.39 -0.04   0.01 -0.01         0.03        0.01   \n",
       "onpromotion              0.05  0.17   0.03  0.00        -0.00        0.01   \n",
       "is_outlier               1.00 -0.01   0.00 -0.00         0.01        0.00   \n",
       "year                    -0.01  1.00  -0.15 -0.01         0.00       -0.01   \n",
       "month                    0.00 -0.15   1.00  0.01        -0.00        0.16   \n",
       "day                     -0.00 -0.01   0.01  1.00         0.00       -0.07   \n",
       "day_of_week              0.01  0.00  -0.00  0.00         1.00       -0.01   \n",
       "is_holiday               0.00 -0.01   0.16 -0.07        -0.01        1.00   \n",
       "dcoilwtico               0.01 -0.83   0.01 -0.00         0.00       -0.01   \n",
       "\n",
       "                   dcoilwtico  \n",
       "unit_sales               0.00  \n",
       "unit_sales_7d_avg        0.00  \n",
       "unit_sales_log           0.03  \n",
       "onpromotion             -0.12  \n",
       "is_outlier               0.01  \n",
       "year                    -0.83  \n",
       "month                    0.01  \n",
       "day                     -0.00  \n",
       "day_of_week              0.00  \n",
       "is_holiday              -0.01  \n",
       "dcoilwtico               1.00  "
      ],
      "text/html": [
       "<div>\n",
       "<style scoped>\n",
       "    .dataframe tbody tr th:only-of-type {\n",
       "        vertical-align: middle;\n",
       "    }\n",
       "\n",
       "    .dataframe tbody tr th {\n",
       "        vertical-align: top;\n",
       "    }\n",
       "\n",
       "    .dataframe thead th {\n",
       "        text-align: right;\n",
       "    }\n",
       "</style>\n",
       "<table border=\"1\" class=\"dataframe\">\n",
       "  <thead>\n",
       "    <tr style=\"text-align: right;\">\n",
       "      <th></th>\n",
       "      <th>unit_sales</th>\n",
       "      <th>unit_sales_7d_avg</th>\n",
       "      <th>unit_sales_log</th>\n",
       "      <th>onpromotion</th>\n",
       "      <th>is_outlier</th>\n",
       "      <th>year</th>\n",
       "      <th>month</th>\n",
       "      <th>day</th>\n",
       "      <th>day_of_week</th>\n",
       "      <th>is_holiday</th>\n",
       "      <th>dcoilwtico</th>\n",
       "    </tr>\n",
       "  </thead>\n",
       "  <tbody>\n",
       "    <tr>\n",
       "      <th>unit_sales</th>\n",
       "      <td>1.00</td>\n",
       "      <td>0.92</td>\n",
       "      <td>0.40</td>\n",
       "      <td>0.06</td>\n",
       "      <td>0.41</td>\n",
       "      <td>-0.01</td>\n",
       "      <td>0.00</td>\n",
       "      <td>-0.00</td>\n",
       "      <td>0.01</td>\n",
       "      <td>0.00</td>\n",
       "      <td>0.00</td>\n",
       "    </tr>\n",
       "    <tr>\n",
       "      <th>unit_sales_7d_avg</th>\n",
       "      <td>0.92</td>\n",
       "      <td>1.00</td>\n",
       "      <td>0.37</td>\n",
       "      <td>0.07</td>\n",
       "      <td>0.37</td>\n",
       "      <td>-0.01</td>\n",
       "      <td>0.00</td>\n",
       "      <td>-0.00</td>\n",
       "      <td>0.00</td>\n",
       "      <td>0.00</td>\n",
       "      <td>0.00</td>\n",
       "    </tr>\n",
       "    <tr>\n",
       "      <th>unit_sales_log</th>\n",
       "      <td>0.40</td>\n",
       "      <td>0.37</td>\n",
       "      <td>1.00</td>\n",
       "      <td>0.09</td>\n",
       "      <td>0.39</td>\n",
       "      <td>-0.04</td>\n",
       "      <td>0.01</td>\n",
       "      <td>-0.01</td>\n",
       "      <td>0.03</td>\n",
       "      <td>0.01</td>\n",
       "      <td>0.03</td>\n",
       "    </tr>\n",
       "    <tr>\n",
       "      <th>onpromotion</th>\n",
       "      <td>0.06</td>\n",
       "      <td>0.07</td>\n",
       "      <td>0.09</td>\n",
       "      <td>1.00</td>\n",
       "      <td>0.05</td>\n",
       "      <td>0.17</td>\n",
       "      <td>0.03</td>\n",
       "      <td>0.00</td>\n",
       "      <td>-0.00</td>\n",
       "      <td>0.01</td>\n",
       "      <td>-0.12</td>\n",
       "    </tr>\n",
       "    <tr>\n",
       "      <th>is_outlier</th>\n",
       "      <td>0.41</td>\n",
       "      <td>0.37</td>\n",
       "      <td>0.39</td>\n",
       "      <td>0.05</td>\n",
       "      <td>1.00</td>\n",
       "      <td>-0.01</td>\n",
       "      <td>0.00</td>\n",
       "      <td>-0.00</td>\n",
       "      <td>0.01</td>\n",
       "      <td>0.00</td>\n",
       "      <td>0.01</td>\n",
       "    </tr>\n",
       "    <tr>\n",
       "      <th>year</th>\n",
       "      <td>-0.01</td>\n",
       "      <td>-0.01</td>\n",
       "      <td>-0.04</td>\n",
       "      <td>0.17</td>\n",
       "      <td>-0.01</td>\n",
       "      <td>1.00</td>\n",
       "      <td>-0.15</td>\n",
       "      <td>-0.01</td>\n",
       "      <td>0.00</td>\n",
       "      <td>-0.01</td>\n",
       "      <td>-0.83</td>\n",
       "    </tr>\n",
       "    <tr>\n",
       "      <th>month</th>\n",
       "      <td>0.00</td>\n",
       "      <td>0.00</td>\n",
       "      <td>0.01</td>\n",
       "      <td>0.03</td>\n",
       "      <td>0.00</td>\n",
       "      <td>-0.15</td>\n",
       "      <td>1.00</td>\n",
       "      <td>0.01</td>\n",
       "      <td>-0.00</td>\n",
       "      <td>0.16</td>\n",
       "      <td>0.01</td>\n",
       "    </tr>\n",
       "    <tr>\n",
       "      <th>day</th>\n",
       "      <td>-0.00</td>\n",
       "      <td>-0.00</td>\n",
       "      <td>-0.01</td>\n",
       "      <td>0.00</td>\n",
       "      <td>-0.00</td>\n",
       "      <td>-0.01</td>\n",
       "      <td>0.01</td>\n",
       "      <td>1.00</td>\n",
       "      <td>0.00</td>\n",
       "      <td>-0.07</td>\n",
       "      <td>-0.00</td>\n",
       "    </tr>\n",
       "    <tr>\n",
       "      <th>day_of_week</th>\n",
       "      <td>0.01</td>\n",
       "      <td>0.00</td>\n",
       "      <td>0.03</td>\n",
       "      <td>-0.00</td>\n",
       "      <td>0.01</td>\n",
       "      <td>0.00</td>\n",
       "      <td>-0.00</td>\n",
       "      <td>0.00</td>\n",
       "      <td>1.00</td>\n",
       "      <td>-0.01</td>\n",
       "      <td>0.00</td>\n",
       "    </tr>\n",
       "    <tr>\n",
       "      <th>is_holiday</th>\n",
       "      <td>0.00</td>\n",
       "      <td>0.00</td>\n",
       "      <td>0.01</td>\n",
       "      <td>0.01</td>\n",
       "      <td>0.00</td>\n",
       "      <td>-0.01</td>\n",
       "      <td>0.16</td>\n",
       "      <td>-0.07</td>\n",
       "      <td>-0.01</td>\n",
       "      <td>1.00</td>\n",
       "      <td>-0.01</td>\n",
       "    </tr>\n",
       "    <tr>\n",
       "      <th>dcoilwtico</th>\n",
       "      <td>0.00</td>\n",
       "      <td>0.00</td>\n",
       "      <td>0.03</td>\n",
       "      <td>-0.12</td>\n",
       "      <td>0.01</td>\n",
       "      <td>-0.83</td>\n",
       "      <td>0.01</td>\n",
       "      <td>-0.00</td>\n",
       "      <td>0.00</td>\n",
       "      <td>-0.01</td>\n",
       "      <td>1.00</td>\n",
       "    </tr>\n",
       "  </tbody>\n",
       "</table>\n",
       "</div>"
      ]
     },
     "execution_count": 105,
     "metadata": {},
     "output_type": "execute_result"
    }
   ],
   "execution_count": 105
  },
  {
   "metadata": {
    "ExecuteTime": {
     "end_time": "2025-05-09T07:49:36.806946Z",
     "start_time": "2025-05-09T07:49:36.663242Z"
    }
   },
   "cell_type": "code",
   "source": [
    "#Plotting correlations for visual comparison of target (unit_sales) vs features\n",
    "plt.figure(figsize=(8, 5))\n",
    "sns.heatmap(df_ts_corr, cmap='coolwarm')\n",
    "plt.title('Correlation Matrix')\n",
    "plt.xticks(fontsize=10)\n",
    "plt.yticks(fontsize=10)\n",
    "plt.tight_layout()\n",
    "plt.show()"
   ],
   "id": "df951dcbb05d45a2",
   "outputs": [
    {
     "data": {
      "text/plain": [
       "<Figure size 800x500 with 2 Axes>"
      ],
      "image/png": "[encoded data removed]"
     },
     "metadata": {},
     "output_type": "display_data"
    }
   ],
   "execution_count": 106
  },
  {
   "metadata": {},
   "cell_type": "markdown",
   "source": [
    "No extreme correlations to note so for now I will keep with these features.\n",
    "\n",
    "I will now apply forecast modelling, testing a variety of algorithms, followed by hyperparameter tuning."
   ],
   "id": "3956b702554048ee"
  }
 ],
 "metadata": {
  "kernelspec": {
   "display_name": "Python 3",
   "language": "python",
   "name": "python3"
  },
  "language_info": {
   "codemirror_mode": {
    "name": "ipython",
    "version": 2
   },
   "file_extension": ".py",
   "mimetype": "text/x-python",
   "name": "python",
   "nbconvert_exporter": "python",
   "pygments_lexer": "ipython2",
   "version": "2.7.6"
  }
 },
 "nbformat": 4,
 "nbformat_minor": 5
}
