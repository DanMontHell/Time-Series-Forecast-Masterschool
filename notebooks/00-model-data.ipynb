{
 "cells": [
  {
   "metadata": {},
   "cell_type": "markdown",
   "source": [
    "#Preparing XGBOOST data\n",
    "\n",
    "This notebook provides a shortcut to the final data used in the XGBOOST notebook. It takes all the data from the 01-eda notebook and applies further preprocessing that occurs in the 04-xgboost notebook"
   ],
   "id": "c88a456908cc031a"
  },
  {
   "cell_type": "code",
   "id": "initial_id",
   "metadata": {
    "collapsed": true,
    "ExecuteTime": {
     "end_time": "2025-05-21T15:43:53.896217Z",
     "start_time": "2025-05-21T15:43:52.391711Z"
    }
   },
   "source": [
    "#Importing libraries\n",
    "import pandas as pd"
   ],
   "outputs": [],
   "execution_count": 2
  },
  {
   "metadata": {
    "ExecuteTime": {
     "end_time": "2025-05-21T15:44:39.282531Z",
     "start_time": "2025-05-21T15:43:53.907597Z"
    }
   },
   "cell_type": "code",
   "source": [
    "#Loading data\n",
    "df_ts = pd.read_csv(\"/Users/dan/PycharmProjects/Masterschool/TimeSeriesRetailForecast/data/prepared_ts_data.csv\", parse_dates=[\"date\"], index_col=\"date\")"
   ],
   "id": "74ea600bdc2eabce",
   "outputs": [],
   "execution_count": 3
  },
  {
   "metadata": {
    "ExecuteTime": {
     "end_time": "2025-05-21T15:44:39.378781Z",
     "start_time": "2025-05-21T15:44:39.358834Z"
    }
   },
   "cell_type": "code",
   "source": [
    "#Checking data\n",
    "df_ts.head()"
   ],
   "id": "ab6b695923159bb3",
   "outputs": [
    {
     "data": {
      "text/plain": [
       "            store_nbr  item_nbr  unit_sales  onpromotion  unit_sales_log  \\\n",
       "date                                                                       \n",
       "2013-01-02         24    105574        12.0          0.0        2.564949   \n",
       "2013-01-03         24    105574         1.0          0.0        0.693147   \n",
       "2013-01-04         24    105574         3.0          0.0        1.386294   \n",
       "2013-01-05         24    105574         4.0          0.0        1.609438   \n",
       "2013-01-06         24    105574         7.0          0.0        2.079442   \n",
       "\n",
       "            is_outlier  year  month  day  day_of_week  unit_sales_7d_avg  \\\n",
       "date                                                                       \n",
       "2013-01-02       False  2013      1    2            2                NaN   \n",
       "2013-01-03       False  2013      1    3            3                NaN   \n",
       "2013-01-04       False  2013      1    4            4                NaN   \n",
       "2013-01-05       False  2013      1    5            5                NaN   \n",
       "2013-01-06       False  2013      1    6            6                NaN   \n",
       "\n",
       "            is_holiday  dcoilwtico     family  \n",
       "date                                           \n",
       "2013-01-02           0       93.14  GROCERY I  \n",
       "2013-01-03           0       92.97  GROCERY I  \n",
       "2013-01-04           0       93.12  GROCERY I  \n",
       "2013-01-05           0       93.12  GROCERY I  \n",
       "2013-01-06           0       93.12  GROCERY I  "
      ],
      "text/html": [
       "<div>\n",
       "<style scoped>\n",
       "    .dataframe tbody tr th:only-of-type {\n",
       "        vertical-align: middle;\n",
       "    }\n",
       "\n",
       "    .dataframe tbody tr th {\n",
       "        vertical-align: top;\n",
       "    }\n",
       "\n",
       "    .dataframe thead th {\n",
       "        text-align: right;\n",
       "    }\n",
       "</style>\n",
       "<table border=\"1\" class=\"dataframe\">\n",
       "  <thead>\n",
       "    <tr style=\"text-align: right;\">\n",
       "      <th></th>\n",
       "      <th>store_nbr</th>\n",
       "      <th>item_nbr</th>\n",
       "      <th>unit_sales</th>\n",
       "      <th>onpromotion</th>\n",
       "      <th>unit_sales_log</th>\n",
       "      <th>is_outlier</th>\n",
       "      <th>year</th>\n",
       "      <th>month</th>\n",
       "      <th>day</th>\n",
       "      <th>day_of_week</th>\n",
       "      <th>unit_sales_7d_avg</th>\n",
       "      <th>is_holiday</th>\n",
       "      <th>dcoilwtico</th>\n",
       "      <th>family</th>\n",
       "    </tr>\n",
       "    <tr>\n",
       "      <th>date</th>\n",
       "      <th></th>\n",
       "      <th></th>\n",
       "      <th></th>\n",
       "      <th></th>\n",
       "      <th></th>\n",
       "      <th></th>\n",
       "      <th></th>\n",
       "      <th></th>\n",
       "      <th></th>\n",
       "      <th></th>\n",
       "      <th></th>\n",
       "      <th></th>\n",
       "      <th></th>\n",
       "      <th></th>\n",
       "    </tr>\n",
       "  </thead>\n",
       "  <tbody>\n",
       "    <tr>\n",
       "      <th>2013-01-02</th>\n",
       "      <td>24</td>\n",
       "      <td>105574</td>\n",
       "      <td>12.0</td>\n",
       "      <td>0.0</td>\n",
       "      <td>2.564949</td>\n",
       "      <td>False</td>\n",
       "      <td>2013</td>\n",
       "      <td>1</td>\n",
       "      <td>2</td>\n",
       "      <td>2</td>\n",
       "      <td>NaN</td>\n",
       "      <td>0</td>\n",
       "      <td>93.14</td>\n",
       "      <td>GROCERY I</td>\n",
       "    </tr>\n",
       "    <tr>\n",
       "      <th>2013-01-03</th>\n",
       "      <td>24</td>\n",
       "      <td>105574</td>\n",
       "      <td>1.0</td>\n",
       "      <td>0.0</td>\n",
       "      <td>0.693147</td>\n",
       "      <td>False</td>\n",
       "      <td>2013</td>\n",
       "      <td>1</td>\n",
       "      <td>3</td>\n",
       "      <td>3</td>\n",
       "      <td>NaN</td>\n",
       "      <td>0</td>\n",
       "      <td>92.97</td>\n",
       "      <td>GROCERY I</td>\n",
       "    </tr>\n",
       "    <tr>\n",
       "      <th>2013-01-04</th>\n",
       "      <td>24</td>\n",
       "      <td>105574</td>\n",
       "      <td>3.0</td>\n",
       "      <td>0.0</td>\n",
       "      <td>1.386294</td>\n",
       "      <td>False</td>\n",
       "      <td>2013</td>\n",
       "      <td>1</td>\n",
       "      <td>4</td>\n",
       "      <td>4</td>\n",
       "      <td>NaN</td>\n",
       "      <td>0</td>\n",
       "      <td>93.12</td>\n",
       "      <td>GROCERY I</td>\n",
       "    </tr>\n",
       "    <tr>\n",
       "      <th>2013-01-05</th>\n",
       "      <td>24</td>\n",
       "      <td>105574</td>\n",
       "      <td>4.0</td>\n",
       "      <td>0.0</td>\n",
       "      <td>1.609438</td>\n",
       "      <td>False</td>\n",
       "      <td>2013</td>\n",
       "      <td>1</td>\n",
       "      <td>5</td>\n",
       "      <td>5</td>\n",
       "      <td>NaN</td>\n",
       "      <td>0</td>\n",
       "      <td>93.12</td>\n",
       "      <td>GROCERY I</td>\n",
       "    </tr>\n",
       "    <tr>\n",
       "      <th>2013-01-06</th>\n",
       "      <td>24</td>\n",
       "      <td>105574</td>\n",
       "      <td>7.0</td>\n",
       "      <td>0.0</td>\n",
       "      <td>2.079442</td>\n",
       "      <td>False</td>\n",
       "      <td>2013</td>\n",
       "      <td>1</td>\n",
       "      <td>6</td>\n",
       "      <td>6</td>\n",
       "      <td>NaN</td>\n",
       "      <td>0</td>\n",
       "      <td>93.12</td>\n",
       "      <td>GROCERY I</td>\n",
       "    </tr>\n",
       "  </tbody>\n",
       "</table>\n",
       "</div>"
      ]
     },
     "execution_count": 4,
     "metadata": {},
     "output_type": "execute_result"
    }
   ],
   "execution_count": 4
  },
  {
   "metadata": {
    "ExecuteTime": {
     "end_time": "2025-05-21T15:44:40.622075Z",
     "start_time": "2025-05-21T15:44:39.483337Z"
    }
   },
   "cell_type": "code",
   "source": [
    "#Checking data types\n",
    "df_ts.info()"
   ],
   "id": "9d4e2df6eb3f9cf",
   "outputs": [
    {
     "name": "stdout",
     "output_type": "stream",
     "text": [
      "<class 'pandas.core.frame.DataFrame'>\n",
      "DatetimeIndex: 35069356 entries, 2013-01-02 to 2017-08-15\n",
      "Data columns (total 14 columns):\n",
      " #   Column             Dtype  \n",
      "---  ------             -----  \n",
      " 0   store_nbr          int64  \n",
      " 1   item_nbr           int64  \n",
      " 2   unit_sales         float64\n",
      " 3   onpromotion        float64\n",
      " 4   unit_sales_log     float64\n",
      " 5   is_outlier         bool   \n",
      " 6   year               int64  \n",
      " 7   month              int64  \n",
      " 8   day                int64  \n",
      " 9   day_of_week        int64  \n",
      " 10  unit_sales_7d_avg  float64\n",
      " 11  is_holiday         int64  \n",
      " 12  dcoilwtico         float64\n",
      " 13  family             object \n",
      "dtypes: bool(1), float64(5), int64(7), object(1)\n",
      "memory usage: 3.7+ GB\n"
     ]
    }
   ],
   "execution_count": 5
  },
  {
   "metadata": {
    "ExecuteTime": {
     "end_time": "2025-05-21T15:44:47.333142Z",
     "start_time": "2025-05-21T15:44:40.653802Z"
    }
   },
   "cell_type": "code",
   "source": [
    "#Dropping nulls as they represent the first 6 days in the data\n",
    "df_ts = df_ts.dropna(subset=['unit_sales_7d_avg'])"
   ],
   "id": "bd5a90ec5a21ffcd",
   "outputs": [],
   "execution_count": 6
  },
  {
   "metadata": {
    "ExecuteTime": {
     "end_time": "2025-05-21T15:44:48.743740Z",
     "start_time": "2025-05-21T15:44:47.627474Z"
    }
   },
   "cell_type": "code",
   "source": [
    "#Creating lag features based on acf and pacf to help predict unit sales using past data\n",
    "df_ts[\"lag_1\"] = df_ts[\"unit_sales\"].shift(1)\n",
    "df_ts[\"lag_6\"] = df_ts[\"unit_sales\"].shift(6)\n",
    "df_ts[\"lag_7\"] = df_ts[\"unit_sales\"].shift(7)\n",
    "df_ts[\"lag_8\"] = df_ts[\"unit_sales\"].shift(8)\n",
    "df_ts[\"lag_14\"] = df_ts[\"unit_sales\"].shift(14)"
   ],
   "id": "e9d756dddef5eba8",
   "outputs": [],
   "execution_count": 7
  },
  {
   "metadata": {
    "ExecuteTime": {
     "end_time": "2025-05-21T15:44:50.175456Z",
     "start_time": "2025-05-21T15:44:48.782148Z"
    }
   },
   "cell_type": "code",
   "source": [
    "#Creating rolling standard deviation\n",
    "df_ts[\"unit_sales_7d_std\"] = df_ts[\"unit_sales\"].rolling(window=7).std()"
   ],
   "id": "5f9021d8fbae7192",
   "outputs": [],
   "execution_count": 8
  },
  {
   "metadata": {
    "ExecuteTime": {
     "end_time": "2025-05-21T15:45:13.045991Z",
     "start_time": "2025-05-21T15:44:50.200570Z"
    }
   },
   "cell_type": "code",
   "source": [
    "#Dropping any nulls created fom new features\n",
    "df_ts.dropna(inplace=True)"
   ],
   "id": "f07a288d1db0dc3b",
   "outputs": [],
   "execution_count": 9
  },
  {
   "metadata": {
    "ExecuteTime": {
     "end_time": "2025-05-21T15:45:13.441726Z",
     "start_time": "2025-05-21T15:45:13.417917Z"
    }
   },
   "cell_type": "code",
   "source": "df_ts.head()",
   "id": "35c327ae54172cb6",
   "outputs": [
    {
     "data": {
      "text/plain": [
       "            store_nbr  item_nbr  unit_sales  onpromotion  unit_sales_log  \\\n",
       "date                                                                       \n",
       "2013-01-22         24    105574         2.0          0.0        1.098612   \n",
       "2013-01-23         24    105574         3.0          0.0        1.386294   \n",
       "2013-01-25         24    105574         3.0          0.0        1.386294   \n",
       "2013-01-26         24    105574         5.0          0.0        1.791759   \n",
       "2013-01-27         24    105574         8.0          0.0        2.197225   \n",
       "\n",
       "            is_outlier  year  month  day  day_of_week  unit_sales_7d_avg  \\\n",
       "date                                                                       \n",
       "2013-01-22       False  2013      1   22            1           6.857143   \n",
       "2013-01-23       False  2013      1   23            2           4.571429   \n",
       "2013-01-25       False  2013      1   25            4           3.285714   \n",
       "2013-01-26       False  2013      1   26            5           3.285714   \n",
       "2013-01-27       False  2013      1   27            6           4.000000   \n",
       "\n",
       "            is_holiday  dcoilwtico     family  lag_1  lag_6  lag_7  lag_8  \\\n",
       "date                                                                        \n",
       "2013-01-22           0       96.09  GROCERY I    4.0   19.0    3.0    2.0   \n",
       "2013-01-23           0       95.06  GROCERY I    2.0    7.0   19.0    3.0   \n",
       "2013-01-25           0       95.15  GROCERY I    3.0    5.0    8.0    7.0   \n",
       "2013-01-26           0       95.15  GROCERY I    3.0    3.0    5.0    8.0   \n",
       "2013-01-27           0       95.15  GROCERY I    5.0    4.0    3.0    5.0   \n",
       "\n",
       "            lag_14  unit_sales_7d_std  \n",
       "date                                   \n",
       "2013-01-22     3.0           5.756983  \n",
       "2013-01-23     7.0           2.225395  \n",
       "2013-01-25     6.0           0.951190  \n",
       "2013-01-26     7.0           0.951190  \n",
       "2013-01-27     1.0           2.000000  "
      ],
      "text/html": [
       "<div>\n",
       "<style scoped>\n",
       "    .dataframe tbody tr th:only-of-type {\n",
       "        vertical-align: middle;\n",
       "    }\n",
       "\n",
       "    .dataframe tbody tr th {\n",
       "        vertical-align: top;\n",
       "    }\n",
       "\n",
       "    .dataframe thead th {\n",
       "        text-align: right;\n",
       "    }\n",
       "</style>\n",
       "<table border=\"1\" class=\"dataframe\">\n",
       "  <thead>\n",
       "    <tr style=\"text-align: right;\">\n",
       "      <th></th>\n",
       "      <th>store_nbr</th>\n",
       "      <th>item_nbr</th>\n",
       "      <th>unit_sales</th>\n",
       "      <th>onpromotion</th>\n",
       "      <th>unit_sales_log</th>\n",
       "      <th>is_outlier</th>\n",
       "      <th>year</th>\n",
       "      <th>month</th>\n",
       "      <th>day</th>\n",
       "      <th>day_of_week</th>\n",
       "      <th>unit_sales_7d_avg</th>\n",
       "      <th>is_holiday</th>\n",
       "      <th>dcoilwtico</th>\n",
       "      <th>family</th>\n",
       "      <th>lag_1</th>\n",
       "      <th>lag_6</th>\n",
       "      <th>lag_7</th>\n",
       "      <th>lag_8</th>\n",
       "      <th>lag_14</th>\n",
       "      <th>unit_sales_7d_std</th>\n",
       "    </tr>\n",
       "    <tr>\n",
       "      <th>date</th>\n",
       "      <th></th>\n",
       "      <th></th>\n",
       "      <th></th>\n",
       "      <th></th>\n",
       "      <th></th>\n",
       "      <th></th>\n",
       "      <th></th>\n",
       "      <th></th>\n",
       "      <th></th>\n",
       "      <th></th>\n",
       "      <th></th>\n",
       "      <th></th>\n",
       "      <th></th>\n",
       "      <th></th>\n",
       "      <th></th>\n",
       "      <th></th>\n",
       "      <th></th>\n",
       "      <th></th>\n",
       "      <th></th>\n",
       "      <th></th>\n",
       "    </tr>\n",
       "  </thead>\n",
       "  <tbody>\n",
       "    <tr>\n",
       "      <th>2013-01-22</th>\n",
       "      <td>24</td>\n",
       "      <td>105574</td>\n",
       "      <td>2.0</td>\n",
       "      <td>0.0</td>\n",
       "      <td>1.098612</td>\n",
       "      <td>False</td>\n",
       "      <td>2013</td>\n",
       "      <td>1</td>\n",
       "      <td>22</td>\n",
       "      <td>1</td>\n",
       "      <td>6.857143</td>\n",
       "      <td>0</td>\n",
       "      <td>96.09</td>\n",
       "      <td>GROCERY I</td>\n",
       "      <td>4.0</td>\n",
       "      <td>19.0</td>\n",
       "      <td>3.0</td>\n",
       "      <td>2.0</td>\n",
       "      <td>3.0</td>\n",
       "      <td>5.756983</td>\n",
       "    </tr>\n",
       "    <tr>\n",
       "      <th>2013-01-23</th>\n",
       "      <td>24</td>\n",
       "      <td>105574</td>\n",
       "      <td>3.0</td>\n",
       "      <td>0.0</td>\n",
       "      <td>1.386294</td>\n",
       "      <td>False</td>\n",
       "      <td>2013</td>\n",
       "      <td>1</td>\n",
       "      <td>23</td>\n",
       "      <td>2</td>\n",
       "      <td>4.571429</td>\n",
       "      <td>0</td>\n",
       "      <td>95.06</td>\n",
       "      <td>GROCERY I</td>\n",
       "      <td>2.0</td>\n",
       "      <td>7.0</td>\n",
       "      <td>19.0</td>\n",
       "      <td>3.0</td>\n",
       "      <td>7.0</td>\n",
       "      <td>2.225395</td>\n",
       "    </tr>\n",
       "    <tr>\n",
       "      <th>2013-01-25</th>\n",
       "      <td>24</td>\n",
       "      <td>105574</td>\n",
       "      <td>3.0</td>\n",
       "      <td>0.0</td>\n",
       "      <td>1.386294</td>\n",
       "      <td>False</td>\n",
       "      <td>2013</td>\n",
       "      <td>1</td>\n",
       "      <td>25</td>\n",
       "      <td>4</td>\n",
       "      <td>3.285714</td>\n",
       "      <td>0</td>\n",
       "      <td>95.15</td>\n",
       "      <td>GROCERY I</td>\n",
       "      <td>3.0</td>\n",
       "      <td>5.0</td>\n",
       "      <td>8.0</td>\n",
       "      <td>7.0</td>\n",
       "      <td>6.0</td>\n",
       "      <td>0.951190</td>\n",
       "    </tr>\n",
       "    <tr>\n",
       "      <th>2013-01-26</th>\n",
       "      <td>24</td>\n",
       "      <td>105574</td>\n",
       "      <td>5.0</td>\n",
       "      <td>0.0</td>\n",
       "      <td>1.791759</td>\n",
       "      <td>False</td>\n",
       "      <td>2013</td>\n",
       "      <td>1</td>\n",
       "      <td>26</td>\n",
       "      <td>5</td>\n",
       "      <td>3.285714</td>\n",
       "      <td>0</td>\n",
       "      <td>95.15</td>\n",
       "      <td>GROCERY I</td>\n",
       "      <td>3.0</td>\n",
       "      <td>3.0</td>\n",
       "      <td>5.0</td>\n",
       "      <td>8.0</td>\n",
       "      <td>7.0</td>\n",
       "      <td>0.951190</td>\n",
       "    </tr>\n",
       "    <tr>\n",
       "      <th>2013-01-27</th>\n",
       "      <td>24</td>\n",
       "      <td>105574</td>\n",
       "      <td>8.0</td>\n",
       "      <td>0.0</td>\n",
       "      <td>2.197225</td>\n",
       "      <td>False</td>\n",
       "      <td>2013</td>\n",
       "      <td>1</td>\n",
       "      <td>27</td>\n",
       "      <td>6</td>\n",
       "      <td>4.000000</td>\n",
       "      <td>0</td>\n",
       "      <td>95.15</td>\n",
       "      <td>GROCERY I</td>\n",
       "      <td>5.0</td>\n",
       "      <td>4.0</td>\n",
       "      <td>3.0</td>\n",
       "      <td>5.0</td>\n",
       "      <td>1.0</td>\n",
       "      <td>2.000000</td>\n",
       "    </tr>\n",
       "  </tbody>\n",
       "</table>\n",
       "</div>"
      ]
     },
     "execution_count": 10,
     "metadata": {},
     "output_type": "execute_result"
    }
   ],
   "execution_count": 10
  },
  {
   "metadata": {
    "ExecuteTime": {
     "end_time": "2025-05-21T15:46:41.871929Z",
     "start_time": "2025-05-21T15:45:13.881018Z"
    }
   },
   "cell_type": "code",
   "source": [
    "#Saving the data to use in our final model\n",
    "df_ts.to_csv(\"/Users/dan/PycharmProjects/Masterschool/TimeSeriesRetailForecast/data/prepared_app_data.csv\")"
   ],
   "id": "7827bd2a35003bcb",
   "outputs": [],
   "execution_count": 11
  },
  {
   "metadata": {
    "ExecuteTime": {
     "end_time": "2025-05-21T15:46:42.140723Z",
     "start_time": "2025-05-21T15:46:41.988882Z"
    }
   },
   "cell_type": "code",
   "source": [
    "#Double-checking data types\n",
    "df_ts.info()"
   ],
   "id": "c127418d9afb0292",
   "outputs": [
    {
     "name": "stdout",
     "output_type": "stream",
     "text": [
      "<class 'pandas.core.frame.DataFrame'>\n",
      "DatetimeIndex: 14715758 entries, 2013-01-22 to 2017-08-15\n",
      "Data columns (total 20 columns):\n",
      " #   Column             Dtype  \n",
      "---  ------             -----  \n",
      " 0   store_nbr          int64  \n",
      " 1   item_nbr           int64  \n",
      " 2   unit_sales         float64\n",
      " 3   onpromotion        float64\n",
      " 4   unit_sales_log     float64\n",
      " 5   is_outlier         bool   \n",
      " 6   year               int64  \n",
      " 7   month              int64  \n",
      " 8   day                int64  \n",
      " 9   day_of_week        int64  \n",
      " 10  unit_sales_7d_avg  float64\n",
      " 11  is_holiday         int64  \n",
      " 12  dcoilwtico         float64\n",
      " 13  family             object \n",
      " 14  lag_1              float64\n",
      " 15  lag_6              float64\n",
      " 16  lag_7              float64\n",
      " 17  lag_8              float64\n",
      " 18  lag_14             float64\n",
      " 19  unit_sales_7d_std  float64\n",
      "dtypes: bool(1), float64(11), int64(7), object(1)\n",
      "memory usage: 2.2+ GB\n"
     ]
    }
   ],
   "execution_count": 12
  }
 ],
 "metadata": {
  "kernelspec": {
   "display_name": "Python 3",
   "language": "python",
   "name": "python3"
  },
  "language_info": {
   "codemirror_mode": {
    "name": "ipython",
    "version": 2
   },
   "file_extension": ".py",
   "mimetype": "text/x-python",
   "name": "python",
   "nbconvert_exporter": "python",
   "pygments_lexer": "ipython2",
   "version": "2.7.6"
  }
 },
 "nbformat": 4,
 "nbformat_minor": 5
}
